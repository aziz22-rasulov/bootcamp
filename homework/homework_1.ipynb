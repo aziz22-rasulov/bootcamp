{
 "cells": [
  {
   "cell_type": "markdown",
   "id": "f50d329f",
   "metadata": {},
   "source": [
    "## Первое задание"
   ]
  },
  {
   "cell_type": "code",
   "execution_count": null,
   "id": "bdc9270c",
   "metadata": {},
   "outputs": [],
   "source": [
    "class Scales:\n",
    "    def __init__(self):\n",
    "        self.left_mass = 0.0\n",
    "        self.right_mass = 0.0\n",
    "    \n",
    "    def add_left(self, mass):\n",
    "        self.left_mass += mass\n",
    "        \n",
    "    def add_right(self, mass):\n",
    "        self.right_mass += mass\n",
    "        \n",
    "    def get_result(self): \n",
    "        if self.left_mass > self.right_mass:\n",
    "            return 'Левая чаша тяжелее'\n",
    "        elif self.right_mass > self.left_mass:\n",
    "            return 'Правая чаша тяжелее'\n",
    "        else:\n",
    "            return 'Весы в равновесии'\n",
    "    \n",
    "    "
   ]
  },
  {
   "cell_type": "code",
   "execution_count": 15,
   "id": "5e743de2",
   "metadata": {},
   "outputs": [
    {
     "name": "stdout",
     "output_type": "stream",
     "text": [
      "Левая чаша тяжелее\n"
     ]
    }
   ],
   "source": [
    "scales = Scales()\n",
    "\n",
    "scales.add_left (6.5)\n",
    "scales.add_right(4.2)\n",
    "\n",
    "print(scales.get_result())"
   ]
  },
  {
   "cell_type": "code",
   "execution_count": 16,
   "id": "4208652c",
   "metadata": {},
   "outputs": [
    {
     "name": "stdout",
     "output_type": "stream",
     "text": [
      "Правая чаша тяжелее\n"
     ]
    }
   ],
   "source": [
    "scales = Scales()\n",
    "\n",
    "scales.add_left (2.5)\n",
    "scales.add_right(4.2)\n",
    "\n",
    "print(scales.get_result())"
   ]
  },
  {
   "cell_type": "code",
   "execution_count": 17,
   "id": "c64e8045",
   "metadata": {},
   "outputs": [
    {
     "name": "stdout",
     "output_type": "stream",
     "text": [
      "Весы в равновесии\n"
     ]
    }
   ],
   "source": [
    "scales = Scales()\n",
    "\n",
    "scales.add_left (6.5)\n",
    "scales.add_right(6.5)\n",
    "\n",
    "print(scales.get_result())"
   ]
  },
  {
   "cell_type": "markdown",
   "id": "2ece4046",
   "metadata": {},
   "source": [
    "## Второе задание"
   ]
  },
  {
   "cell_type": "code",
   "execution_count": null,
   "id": "fededb73",
   "metadata": {},
   "outputs": [],
   "source": [
    "class Todo:\n",
    "    def __init__(self):\n",
    "        self.things = []\n",
    "    \n",
    "    def add_things(self, rabota, n):\n",
    "        self.things.append((rabota, n))\n",
    "    \n",
    "    def get_by_priority(self, n):\n",
    "        result = [rabota for rabota, priority in self.things if priority == n]\n",
    "        return result\n",
    "    \n",
    "    def get_low_priority(self):\n",
    "        min_priority = min(priority for _, priority in self.things)\n",
    "        return [rabota for rabota, priority in self.things if priority == min_priority]\n",
    "    \n",
    "    def get_high_priority(self):\n",
    "        max_priority = max(priority for _, priority in self.things)\n",
    "        return [rabota for rabota, priority in self.things if priority == max_priority]"
   ]
  },
  {
   "cell_type": "code",
   "execution_count": 42,
   "id": "b1e999c2",
   "metadata": {},
   "outputs": [
    {
     "name": "stdout",
     "output_type": "stream",
     "text": [
      "['Сходить в универ']\n",
      "['Сдать дз по буткэмпу']\n",
      "['почитать статью на хабр']\n",
      "['почитать статью на хабр']\n",
      "['Сходить в универ']\n"
     ]
    }
   ],
   "source": [
    "t = Todo()\n",
    "t.add_things('Сходить в универ', 3)\n",
    "t.add_things('Сдать дз по буткэмпу', 2)\n",
    "t.add_things('почитать статью на хабр', 1)\n",
    "print(t.get_by_priority(3))\n",
    "print(t.get_by_priority(2))\n",
    "print(t.get_by_priority(1))\n",
    "print(t.get_low_priority())\n",
    "print(t.get_high_priority())"
   ]
  },
  {
   "cell_type": "markdown",
   "id": "b4e1f509",
   "metadata": {},
   "source": [
    "## Третье задание "
   ]
  },
  {
   "cell_type": "code",
   "execution_count": 12,
   "id": "9f962b4c",
   "metadata": {},
   "outputs": [],
   "source": [
    "class BankAccount:\n",
    "    def __init__(self, balance):\n",
    "        self.balance = balance\n",
    "    \n",
    "    def get_balance(self):\n",
    "        return self.balance\n",
    "    \n",
    "    def deposit(self, amount):\n",
    "        self.balance += amount\n",
    "    def withdraw(self, amount):\n",
    "        if amount > self.balance:\n",
    "            print('На счете недостаточно средств')\n",
    "        self.balance -= amount\n",
    "    def transfer(self, ac, amount):\n",
    "        self.withdraw(amount)\n",
    "        ac.deposit(amount)\n",
    "        if amount < 0:\n",
    "            print(\"На счете недостаточно средств\")\n",
    "        \n",
    "    \n",
    "        "
   ]
  },
  {
   "cell_type": "code",
   "execution_count": 8,
   "id": "f5c95ea4",
   "metadata": {},
   "outputs": [
    {
     "name": "stdout",
     "output_type": "stream",
     "text": [
      "0.0\n",
      "100.0\n",
      "50.0\n"
     ]
    }
   ],
   "source": [
    "b = BankAccount()\n",
    "print(b.get_balance())\n",
    "b.deposit(100)\n",
    "print(b.get_balance())\n",
    "b.withdraw(50.0)\n",
    "print(b.get_balance())"
   ]
  },
  {
   "cell_type": "code",
   "execution_count": 14,
   "id": "a5be5878",
   "metadata": {},
   "outputs": [
    {
     "name": "stdout",
     "output_type": "stream",
     "text": [
      "На счете недостаточно средств\n"
     ]
    }
   ],
   "source": [
    "account = BankAccount(100)\n",
    "\n",
    "try:\n",
    "    account.withdraw(150)\n",
    "except ValueError as e:\n",
    "    print(e)"
   ]
  },
  {
   "cell_type": "code",
   "execution_count": 13,
   "id": "0c799782",
   "metadata": {},
   "outputs": [
    {
     "name": "stdout",
     "output_type": "stream",
     "text": [
      "На счете недостаточно средств\n",
      "-30\n",
      "250\n"
     ]
    }
   ],
   "source": [
    "ac1 = BankAccount(20)\n",
    "ac2 = BankAccount(200)\n",
    "\n",
    "ac1.transfer(ac2, 50)\n",
    "print(ac1.get_balance())\n",
    "print(ac2.get_balance())"
   ]
  }
 ],
 "metadata": {
  "kernelspec": {
   "display_name": "my_rag_env",
   "language": "python",
   "name": "python3"
  },
  "language_info": {
   "codemirror_mode": {
    "name": "ipython",
    "version": 3
   },
   "file_extension": ".py",
   "mimetype": "text/x-python",
   "name": "python",
   "nbconvert_exporter": "python",
   "pygments_lexer": "ipython3",
   "version": "3.13.2"
  }
 },
 "nbformat": 4,
 "nbformat_minor": 5
}
