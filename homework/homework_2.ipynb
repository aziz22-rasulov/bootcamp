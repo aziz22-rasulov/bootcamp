{
 "cells": [
  {
   "cell_type": "markdown",
   "id": "2d6ddeed",
   "metadata": {},
   "source": [
    "## Первое задание "
   ]
  },
  {
   "cell_type": "code",
   "execution_count": 3,
   "id": "2f3918e9",
   "metadata": {},
   "outputs": [],
   "source": [
    "class Person:\n",
    "    def __init__(self, name, surname):\n",
    "        self.name = name\n",
    "        self.surname = surname\n",
    "    @property\n",
    "    def fullname(self):\n",
    "        return f'{self.name} {self.surname}'\n",
    "    @fullname.setter\n",
    "    def fullname(self, fullname):\n",
    "        parts = fullname.split(maxsplit = 1)\n",
    "        if len(parts) < 2:\n",
    "            raise ValueError(\"Полное имя должно содержать и фамилию и имя\")\n",
    "        self.name, self.surname = parts\n",
    "    "
   ]
  },
  {
   "cell_type": "code",
   "execution_count": 4,
   "id": "27ca7633",
   "metadata": {},
   "outputs": [],
   "source": [
    "person = Person('Aziz', 'Rasulov')"
   ]
  },
  {
   "cell_type": "code",
   "execution_count": 5,
   "id": "1154497e",
   "metadata": {},
   "outputs": [
    {
     "name": "stdout",
     "output_type": "stream",
     "text": [
      "Aziz\n",
      "Rasulov\n",
      "Aziz Rasulov\n"
     ]
    }
   ],
   "source": [
    "print(person.name)\n",
    "print(person.surname)\n",
    "print(person.fullname)"
   ]
  },
  {
   "cell_type": "code",
   "execution_count": 6,
   "id": "11303ebd",
   "metadata": {},
   "outputs": [
    {
     "name": "stdout",
     "output_type": "stream",
     "text": [
      "Benjamin\n",
      "Franklin\n"
     ]
    }
   ],
   "source": [
    "person.fullname = 'Benjamin Franklin'\n",
    "print(person.name)\n",
    "print(person.surname)"
   ]
  },
  {
   "cell_type": "markdown",
   "id": "d4b2f93a",
   "metadata": {},
   "source": [
    "## Второе задание "
   ]
  },
  {
   "cell_type": "code",
   "execution_count": 7,
   "id": "d01d1d62",
   "metadata": {},
   "outputs": [],
   "source": [
    "def hash_function(password):\n",
    "    hash_value = 0\n",
    "    for char, index in zip(password, range(len(password))):\n",
    "        hash_value += ord(char) * index\n",
    "    return hash_value % 10**9\n",
    "\n",
    "class Account:\n",
    "    def __init__(self, login, password):\n",
    "        self._login = login\n",
    "        self._password_hash = hash_function(password)\n",
    "\n",
    "    @property\n",
    "    def login(self):\n",
    "       return self._login\n",
    "\n",
    "    @login.setter\n",
    "    def login(self, value):\n",
    "        raise AttributeError(\"Изменение логина невозможно\")\n",
    "\n",
    "    @property\n",
    "    def password(self):\n",
    "         return self._password_hash\n",
    "\n",
    "    @password.setter\n",
    "    def password(self, new_password):\n",
    "        self._password_hash = hash_function(new_password)"
   ]
  },
  {
   "cell_type": "code",
   "execution_count": 8,
   "id": "d2045e4e",
   "metadata": {},
   "outputs": [
    {
     "name": "stdout",
     "output_type": "stream",
     "text": [
      "Азиз\n",
      "30374\n"
     ]
    }
   ],
   "source": [
    "account = Account('Азиз', 'Ураборос')\n",
    "\n",
    "print(account.login)\n",
    "print(account.password)"
   ]
  },
  {
   "cell_type": "code",
   "execution_count": 11,
   "id": "9fc33760",
   "metadata": {},
   "outputs": [
    {
     "name": "stdout",
     "output_type": "stream",
     "text": [
      "5180\n",
      "10953\n"
     ]
    }
   ],
   "source": [
    "account = Account('Расуов Азизджон', 'Umbrella_123')\n",
    "\n",
    "print(account.password)\n",
    "account.password = 'verylovebeegeek'\n",
    "print(account.password)"
   ]
  },
  {
   "cell_type": "markdown",
   "id": "348c14fa",
   "metadata": {},
   "source": [
    "## Третье задание "
   ]
  },
  {
   "cell_type": "code",
   "execution_count": 48,
   "id": "d81ae37a",
   "metadata": {},
   "outputs": [],
   "source": [
    "class Pet:\n",
    "    _first_pet = None  \n",
    "    _last_pet = None   \n",
    "    _num_of_pets = 0   \n",
    "\n",
    "    def __init__(self, name):\n",
    "        self.name = name\n",
    "\n",
    "        \n",
    "        Pet._num_of_pets += 1\n",
    "\n",
    "       \n",
    "        if Pet._first_pet is None:\n",
    "            Pet._first_pet = self\n",
    "        Pet._last_pet = self\n",
    "\n",
    "    @classmethod\n",
    "    def first_pet(cls):\n",
    "        return cls._first_pet \n",
    "     \n",
    "\n",
    "    @classmethod\n",
    "    def last_pet(cls):\n",
    "        return cls._last_pet  \n",
    "\n",
    "    @classmethod\n",
    "    def num_of_pets(cls):\n",
    "        return cls._num_of_pets  "
   ]
  },
  {
   "cell_type": "code",
   "execution_count": 46,
   "id": "30132bcb",
   "metadata": {},
   "outputs": [
    {
     "name": "stdout",
     "output_type": "stream",
     "text": [
      "<__main__.Pet object at 0x000001DE03D5C980>\n",
      "<__main__.Pet object at 0x000001DE03505090>\n",
      "3\n"
     ]
    }
   ],
   "source": [
    "print(Pet.first_pet())\n",
    "print(Pet.last_pet())\n",
    "print(Pet.num_of_pets())"
   ]
  },
  {
   "cell_type": "code",
   "execution_count": 45,
   "id": "ec70893b",
   "metadata": {},
   "outputs": [
    {
     "name": "stdout",
     "output_type": "stream",
     "text": [
      "Озвелл И. Спенсер\n",
      "Джеймс Маркус\n",
      "3\n"
     ]
    }
   ],
   "source": [
    "pet1 = Pet('Озвелл И. Спенсер')\n",
    "pet2 = Pet('Эдвард Эшфорд')\n",
    "pet3 = Pet('Джеймс Маркус')\n",
    "\n",
    "print(Pet.first_pet().name)    \n",
    "print(Pet.last_pet().name)      \n",
    "print(Pet.num_of_pets())        \n",
    "\n"
   ]
  }
 ],
 "metadata": {
  "kernelspec": {
   "display_name": "my_rag_env",
   "language": "python",
   "name": "python3"
  },
  "language_info": {
   "codemirror_mode": {
    "name": "ipython",
    "version": 3
   },
   "file_extension": ".py",
   "mimetype": "text/x-python",
   "name": "python",
   "nbconvert_exporter": "python",
   "pygments_lexer": "ipython3",
   "version": "3.13.2"
  }
 },
 "nbformat": 4,
 "nbformat_minor": 5
}
