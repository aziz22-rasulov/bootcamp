{
 "cells": [
  {
   "cell_type": "markdown",
   "id": "e1991ada",
   "metadata": {},
   "source": [
    "## Первое задание "
   ]
  },
  {
   "cell_type": "code",
   "execution_count": 1,
   "id": "80848e82",
   "metadata": {},
   "outputs": [],
   "source": [
    "class User:\n",
    "    def __init__(self, name):\n",
    "        self.name = name \n",
    "        \n",
    "    def skip_ads(self):\n",
    "        return False\n",
    "\n",
    "\n",
    "class PremiumUser(User):\n",
    "    def __init__(self, name):\n",
    "        super().__init__(name)\n",
    "        self.name = name\n",
    "\n",
    "    def skip_ads(self):\n",
    "        return True\n",
    "    \n"
   ]
  },
  {
   "cell_type": "code",
   "execution_count": 2,
   "id": "a913c1ee",
   "metadata": {},
   "outputs": [
    {
     "name": "stdout",
     "output_type": "stream",
     "text": [
      "True\n"
     ]
    }
   ],
   "source": [
    "print(issubclass(PremiumUser, User))"
   ]
  },
  {
   "cell_type": "code",
   "execution_count": 3,
   "id": "18087527",
   "metadata": {},
   "outputs": [
    {
     "name": "stdout",
     "output_type": "stream",
     "text": [
      "False\n",
      "True\n"
     ]
    }
   ],
   "source": [
    "user = User('Aziz')\n",
    "premium_user = PremiumUser('Aziz')\n",
    "\n",
    "print(user.skip_ads())\n",
    "print(premium_user.skip_ads())"
   ]
  },
  {
   "cell_type": "markdown",
   "id": "4c355360",
   "metadata": {},
   "source": [
    "## Второе задание "
   ]
  },
  {
   "cell_type": "code",
   "execution_count": 28,
   "id": "fae78b1a",
   "metadata": {},
   "outputs": [],
   "source": [
    "class BasicPlan:\n",
    "    \n",
    "        can_stream = True\n",
    "        can_download = True\n",
    "        has_SD = True\n",
    "        has_HD = False\n",
    "        has_UHD = False \n",
    "        num_of_devices = 1\n",
    "        price = 8.99 \n",
    "\n",
    "\n",
    "class SilverPlan(BasicPlan):\n",
    "    \n",
    "        \n",
    "        can_stream = True\n",
    "        can_download = True\n",
    "        has_SD = True\n",
    "        has_HD = True\n",
    "        has_UHD = False \n",
    "        num_of_devices = 2\n",
    "        price = 12.99\n",
    "\n",
    "\n",
    "class GoldPlan(BasicPlan):\n",
    "    \n",
    "        can_stream = True\n",
    "        can_download = True\n",
    "        has_SD = True\n",
    "        has_HD = True\n",
    "        has_UHD = True \n",
    "        num_of_devices = 4\n",
    "        price = 15.99\n",
    "        \n"
   ]
  },
  {
   "cell_type": "code",
   "execution_count": 27,
   "id": "88b12c3b",
   "metadata": {},
   "outputs": [
    {
     "name": "stdout",
     "output_type": "stream",
     "text": [
      "True\n",
      "True\n",
      "True\n",
      "False\n",
      "False\n",
      "1\n",
      "8.99\n"
     ]
    }
   ],
   "source": [
    "print(BasicPlan.can_stream)\n",
    "print(BasicPlan.can_download)\n",
    "print(BasicPlan.has_SD)\n",
    "print(BasicPlan.has_HD)\n",
    "print(BasicPlan.has_UHD)\n",
    "print(BasicPlan.num_of_devices)\n",
    "print(BasicPlan.price)"
   ]
  },
  {
   "cell_type": "code",
   "execution_count": 29,
   "id": "eb71f3df",
   "metadata": {},
   "outputs": [
    {
     "name": "stdout",
     "output_type": "stream",
     "text": [
      "True\n",
      "True\n",
      "True\n",
      "True\n",
      "False\n",
      "2\n",
      "12.99\n"
     ]
    }
   ],
   "source": [
    "print(SilverPlan.can_stream)\n",
    "print(SilverPlan.can_download)\n",
    "print(SilverPlan.has_SD)\n",
    "print(SilverPlan.has_HD)\n",
    "print(SilverPlan.has_UHD)\n",
    "print(SilverPlan.num_of_devices)\n",
    "print(SilverPlan.price)"
   ]
  },
  {
   "cell_type": "code",
   "execution_count": 30,
   "id": "0bc4ca98",
   "metadata": {},
   "outputs": [
    {
     "name": "stdout",
     "output_type": "stream",
     "text": [
      "True\n",
      "True\n",
      "True\n",
      "True\n",
      "True\n",
      "4\n",
      "15.99\n"
     ]
    }
   ],
   "source": [
    "print(GoldPlan.can_stream)\n",
    "print(GoldPlan.can_download)\n",
    "print(GoldPlan.has_SD)\n",
    "print(GoldPlan.has_HD)\n",
    "print(GoldPlan.has_UHD)\n",
    "print(GoldPlan.num_of_devices)\n",
    "print(GoldPlan.price)"
   ]
  },
  {
   "cell_type": "markdown",
   "id": "cc2aadeb",
   "metadata": {},
   "source": [
    "## Третье задание "
   ]
  },
  {
   "cell_type": "code",
   "execution_count": 44,
   "id": "5bf41127",
   "metadata": {},
   "outputs": [],
   "source": [
    "class Father:\n",
    "    def __init__(self, mood = 'neutral'):\n",
    "        self.mood = mood\n",
    "    \n",
    "    def greet(self):\n",
    "        return 'Hello'\n",
    "    \n",
    "    def be_strict(self):\n",
    "        self.mood = 'strict'\n",
    "\n",
    "class Mother(Father):\n",
    "    \n",
    "\n",
    "    def greet(self):\n",
    "        return 'Hi, honey!'\n",
    "    \n",
    "    def be_kind(self):\n",
    "        self.mood = 'kind'\n",
    "\n",
    "\n",
    "class Daughter(Mother):\n",
    "    \n",
    "\n",
    "    def greet(self):\n",
    "        return super().greet()\n",
    "    \n",
    "    \n",
    "    def be_strict(self):\n",
    "        return super().be_strict()\n",
    "\n",
    "\n",
    "class Son(Father):\n",
    "    def greet(self):\n",
    "        return super().greet()\n",
    "    \n",
    "    \n",
    "    def be_strict(self):\n",
    "        return super().be_strict()\n",
    "\n",
    "\n",
    "\n",
    "\n",
    "\n"
   ]
  },
  {
   "cell_type": "code",
   "execution_count": 45,
   "id": "58011922",
   "metadata": {},
   "outputs": [
    {
     "name": "stdout",
     "output_type": "stream",
     "text": [
      "neutral\n",
      "neutral\n",
      "Hello\n",
      "Hi, honey!\n"
     ]
    }
   ],
   "source": [
    "father = Father()\n",
    "mother = Mother()\n",
    "daughter = Daughter()\n",
    "\n",
    "print(daughter.mood)\n",
    "print(mother.mood)\n",
    "print(father.greet())\n",
    "print(mother.greet())"
   ]
  },
  {
   "cell_type": "code",
   "execution_count": 46,
   "id": "9804680f",
   "metadata": {},
   "outputs": [
    {
     "name": "stdout",
     "output_type": "stream",
     "text": [
      "happy\n",
      "unhappy\n",
      "strict\n",
      "kind\n"
     ]
    }
   ],
   "source": [
    "father = Father('happy')\n",
    "mother = Mother('unhappy')\n",
    "\n",
    "print(father.mood)\n",
    "print(mother.mood)\n",
    "father.be_strict()\n",
    "mother.be_kind()\n",
    "print(father.mood)\n",
    "print(mother.mood)"
   ]
  }
 ],
 "metadata": {
  "kernelspec": {
   "display_name": "my_rag_env",
   "language": "python",
   "name": "python3"
  },
  "language_info": {
   "codemirror_mode": {
    "name": "ipython",
    "version": 3
   },
   "file_extension": ".py",
   "mimetype": "text/x-python",
   "name": "python",
   "nbconvert_exporter": "python",
   "pygments_lexer": "ipython3",
   "version": "3.13.2"
  }
 },
 "nbformat": 4,
 "nbformat_minor": 5
}
