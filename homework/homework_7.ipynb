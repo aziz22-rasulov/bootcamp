{
 "cells": [
  {
   "cell_type": "markdown",
   "id": "8bc738d7",
   "metadata": {},
   "source": [
    "## Первая метрика \n"
   ]
  },
  {
   "cell_type": "code",
   "execution_count": 2,
   "id": "1d4544d6",
   "metadata": {},
   "outputs": [],
   "source": [
    "import pandas as pd\n",
    "import numpy as np"
   ]
  },
  {
   "cell_type": "code",
   "execution_count": 4,
   "id": "11b2ed46",
   "metadata": {},
   "outputs": [],
   "source": [
    "df = pd.read_csv('tips.csv')"
   ]
  },
  {
   "cell_type": "code",
   "execution_count": 5,
   "id": "a3d62c92",
   "metadata": {},
   "outputs": [
    {
     "data": {
      "text/html": [
       "<div>\n",
       "<style scoped>\n",
       "    .dataframe tbody tr th:only-of-type {\n",
       "        vertical-align: middle;\n",
       "    }\n",
       "\n",
       "    .dataframe tbody tr th {\n",
       "        vertical-align: top;\n",
       "    }\n",
       "\n",
       "    .dataframe thead th {\n",
       "        text-align: right;\n",
       "    }\n",
       "</style>\n",
       "<table border=\"1\" class=\"dataframe\">\n",
       "  <thead>\n",
       "    <tr style=\"text-align: right;\">\n",
       "      <th></th>\n",
       "      <th>total_bill</th>\n",
       "      <th>tip</th>\n",
       "      <th>sex</th>\n",
       "      <th>smoker</th>\n",
       "      <th>day</th>\n",
       "      <th>time</th>\n",
       "      <th>size</th>\n",
       "      <th>price_per_person</th>\n",
       "      <th>Payer Name</th>\n",
       "      <th>CC Number</th>\n",
       "      <th>Payment ID</th>\n",
       "    </tr>\n",
       "  </thead>\n",
       "  <tbody>\n",
       "    <tr>\n",
       "      <th>0</th>\n",
       "      <td>16.99</td>\n",
       "      <td>1.01</td>\n",
       "      <td>Female</td>\n",
       "      <td>No</td>\n",
       "      <td>Sun</td>\n",
       "      <td>Dinner</td>\n",
       "      <td>2</td>\n",
       "      <td>8.49</td>\n",
       "      <td>Christy Cunningham</td>\n",
       "      <td>3560325168603410</td>\n",
       "      <td>Sun2959</td>\n",
       "    </tr>\n",
       "    <tr>\n",
       "      <th>1</th>\n",
       "      <td>10.34</td>\n",
       "      <td>1.66</td>\n",
       "      <td>Male</td>\n",
       "      <td>No</td>\n",
       "      <td>Sun</td>\n",
       "      <td>Dinner</td>\n",
       "      <td>3</td>\n",
       "      <td>3.45</td>\n",
       "      <td>Douglas Tucker</td>\n",
       "      <td>4478071379779230</td>\n",
       "      <td>Sun4608</td>\n",
       "    </tr>\n",
       "    <tr>\n",
       "      <th>2</th>\n",
       "      <td>21.01</td>\n",
       "      <td>3.50</td>\n",
       "      <td>Male</td>\n",
       "      <td>No</td>\n",
       "      <td>Sun</td>\n",
       "      <td>Dinner</td>\n",
       "      <td>3</td>\n",
       "      <td>7.00</td>\n",
       "      <td>Travis Walters</td>\n",
       "      <td>6011812112971322</td>\n",
       "      <td>Sun4458</td>\n",
       "    </tr>\n",
       "  </tbody>\n",
       "</table>\n",
       "</div>"
      ],
      "text/plain": [
       "   total_bill   tip     sex smoker  day    time  size  price_per_person  \\\n",
       "0       16.99  1.01  Female     No  Sun  Dinner     2              8.49   \n",
       "1       10.34  1.66    Male     No  Sun  Dinner     3              3.45   \n",
       "2       21.01  3.50    Male     No  Sun  Dinner     3              7.00   \n",
       "\n",
       "           Payer Name         CC Number Payment ID  \n",
       "0  Christy Cunningham  3560325168603410    Sun2959  \n",
       "1      Douglas Tucker  4478071379779230    Sun4608  \n",
       "2      Travis Walters  6011812112971322    Sun4458  "
      ]
     },
     "execution_count": 5,
     "metadata": {},
     "output_type": "execute_result"
    }
   ],
   "source": [
    "df.head(3)"
   ]
  },
  {
   "cell_type": "code",
   "execution_count": 6,
   "id": "2f7dd941",
   "metadata": {},
   "outputs": [
    {
     "data": {
      "text/plain": [
       "array(['Sun', 'Sat', 'Thur', 'Fri'], dtype=object)"
      ]
     },
     "execution_count": 6,
     "metadata": {},
     "output_type": "execute_result"
    }
   ],
   "source": [
    "df['day'].unique()"
   ]
  },
  {
   "cell_type": "code",
   "execution_count": 7,
   "id": "3899eaf4",
   "metadata": {},
   "outputs": [],
   "source": [
    "days_of_week = [\"Thur\", \"Fri\", \"Sat\", \"Sun\"]\n",
    "daily_tips_sum = {}\n",
    "\n",
    "for day in days_of_week:\n",
    "    # Фильтрация строк DataFrame для текущего дня недели.\n",
    "    # df['day'] == day создает булеву маску.\n",
    "    df_day_filtered = df[df['day'] == day]\n",
    "    \n",
    "    # Подсчет общей суммы чаевых для отфильтрованных строк (т.е. для текущего дня).\n",
    "    # Используем метод .sum() на столбце 'tip' отфильтрованного DataFrame.\n",
    "    total_tips_for_day = df_day_filtered['tip'].sum()\n",
    "    \n",
    "    daily_tips_sum[day] = total_tips_for_day"
   ]
  },
  {
   "cell_type": "code",
   "execution_count": 12,
   "id": "77b76ebd",
   "metadata": {},
   "outputs": [
    {
     "name": "stdout",
     "output_type": "stream",
     "text": [
      "Thur - 171.83\n",
      "Fri - 51.96\n",
      "Sat - 260.40\n",
      "Sun - 247.39\n"
     ]
    }
   ],
   "source": [
    "for day, total_tips in daily_tips_sum.items():\n",
    "    print(f\"{day} - {total_tips:.2f}\")"
   ]
  },
  {
   "cell_type": "markdown",
   "id": "e9f511ed",
   "metadata": {},
   "source": [
    "- Thur - 171.83\n",
    "- Fri - 51.96\n",
    "- Sat - 260.40\n",
    "- Sun - 247.39"
   ]
  },
  {
   "cell_type": "markdown",
   "id": "b19a5908",
   "metadata": {},
   "source": [
    "## Вторая метрика "
   ]
  },
  {
   "cell_type": "code",
   "execution_count": 14,
   "id": "4832476d",
   "metadata": {},
   "outputs": [
    {
     "name": "stdout",
     "output_type": "stream",
     "text": [
      "\n",
      "--- Метрика 2: Процентное соотношение чаевых по дням недели ---\n",
      "\n",
      "Процентное соотношение чаевых по дням недели:\n",
      "Thur - 23.49%\n",
      "Fri - 7.10%\n",
      "Sat - 35.59%\n",
      "Sun - 33.82%\n"
     ]
    }
   ],
   "source": [
    "days_of_week = [\"Thur\", \"Fri\", \"Sat\", \"Sun\"]\n",
    "daily_tips_sum = {}\n",
    "for day in days_of_week:\n",
    "    df_day_filtered = df[df['day'] == day]\n",
    "    total_tips_for_day = df_day_filtered['tip'].sum()\n",
    "    daily_tips_sum[day] = total_tips_for_day\n",
    "\n",
    "print(\"\\n--- Метрика 2: Процентное соотношение чаевых по дням недели ---\")\n",
    "\n",
    "total_all_tips = df['tip'].sum()\n",
    "\n",
    "\n",
    "percentage_daily_tips = {}\n",
    "\n",
    "if total_all_tips > 0: \n",
    "    for day in days_of_week: \n",
    "        sum_tips_for_day = daily_tips_sum.get(day, 0) \n",
    "        percentage = (sum_tips_for_day / total_all_tips) * 100\n",
    "        percentage_daily_tips[day] = percentage\n",
    "else:\n",
    "    \n",
    "    for day in days_of_week:\n",
    "        percentage_daily_tips[day] = 0.0\n",
    "\n",
    "print(\"\\nПроцентное соотношение чаевых по дням недели:\")\n",
    "for day, perc in percentage_daily_tips.items():\n",
    "    print(f\"{day} - {perc:.2f}%\")\n",
    "\n"
   ]
  },
  {
   "cell_type": "markdown",
   "id": "82978932",
   "metadata": {},
   "source": [
    "\n",
    "\n",
    "Процентное соотношение чаевых по дням недели:\n",
    "- Thur - 23.49%\n",
    "- Fri - 7.10%\n",
    "- Sat - 35.59%\n",
    "- Sun - 33.82%\n"
   ]
  },
  {
   "cell_type": "markdown",
   "id": "7d11075b",
   "metadata": {},
   "source": [
    "## Третья метрика "
   ]
  },
  {
   "cell_type": "code",
   "execution_count": 15,
   "id": "bd8fa923",
   "metadata": {},
   "outputs": [
    {
     "name": "stdout",
     "output_type": "stream",
     "text": [
      "\n",
      "--- Метрика 3: Три компании посетителей с наибольшей суммой чаевых ---\n",
      "\n",
      "Три компании посетителей с наибольшей суммой чаевых:\n",
      "Группа из 2 человек - 402.84\n",
      "Группа из 4 человек - 153.01\n",
      "Группа из 3 человек - 128.94\n"
     ]
    }
   ],
   "source": [
    "print(\"\\n--- Метрика 3: Три компании посетителей с наибольшей суммой чаевых ---\")\n",
    "\n",
    "unique_sizes = df['size'].value_counts().index.tolist()\n",
    "size_tips_sum = {}\n",
    "\n",
    "for size_val in unique_sizes: # Renamed 'size' to 'size_val' to avoid conflict with df.size\n",
    "    df_size_filtered = df[df['size'] == size_val]\n",
    "    total_tips_for_size = df_size_filtered['tip'].sum()\n",
    "    size_tips_sum[size_val] = total_tips_for_size\n",
    "\n",
    "sorted_size_tips = sorted(size_tips_sum.items(), key=lambda item: item[1], reverse=True)\n",
    "top_3_companies = sorted_size_tips[:3]\n",
    "\n",
    "print(\"\\nТри компании посетителей с наибольшей суммой чаевых:\")\n",
    "if len(top_3_companies) >= 1:\n",
    "    print(f\"Группа из {top_3_companies[0][0]} человек - {top_3_companies[0][1]:.2f}\")\n",
    "if len(top_3_companies) >= 2:\n",
    "    print(f\"Группа из {top_3_companies[1][0]} человек - {top_3_companies[1][1]:.2f}\")\n",
    "if len(top_3_companies) >= 3:\n",
    "    print(f\"Группа из {top_3_companies[2][0]} человек - {top_3_companies[2][1]:.2f}\")\n",
    "elif len(top_3_companies) < 3 and len(top_3_companies) > 0:\n",
    "     print(\"В данных меньше трех уникальных размеров групп.\")\n",
    "elif len(top_3_companies) == 0:\n",
    "     print(\"Нет данных о чаевых для групп.\")\n"
   ]
  },
  {
   "cell_type": "markdown",
   "id": "25ff1a2c",
   "metadata": {},
   "source": [
    "Три компании посетителей с наибольшей суммой чаевых:\n",
    "- Группа из 2 человек - 402.84\n",
    "- Группа из 4 человек - 153.01\n",
    "- Группа из 3 человек - 128.94"
   ]
  },
  {
   "cell_type": "markdown",
   "id": "eb5a2755",
   "metadata": {},
   "source": [
    "## Четвертая метрика "
   ]
  }
 ],
 "metadata": {
  "kernelspec": {
   "display_name": "my_rag_env",
   "language": "python",
   "name": "python3"
  },
  "language_info": {
   "codemirror_mode": {
    "name": "ipython",
    "version": 3
   },
   "file_extension": ".py",
   "mimetype": "text/x-python",
   "name": "python",
   "nbconvert_exporter": "python",
   "pygments_lexer": "ipython3",
   "version": "3.13.2"
  }
 },
 "nbformat": 4,
 "nbformat_minor": 5
}
