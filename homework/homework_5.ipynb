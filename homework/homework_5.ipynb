{
 "cells": [
  {
   "cell_type": "markdown",
   "id": "b2e4a2ff",
   "metadata": {},
   "source": [
    "## Первое задание"
   ]
  },
  {
   "cell_type": "code",
   "execution_count": 4,
   "id": "ec171282",
   "metadata": {},
   "outputs": [],
   "source": [
    "class USADate:\n",
    "    def __init__(self, year, month, day):\n",
    "        self.year = year\n",
    "        self.month = month\n",
    "        self.day = day\n",
    "        \n",
    "    def format(self):\n",
    "        return f\"{self.month:02d}-{self.day:02d}-{self.year}\"\n",
    "    \n",
    "\n",
    "    def iso_format(self):\n",
    "        return f\"{self.year}-{self.month:02d}-{self.day:02d}\"\n",
    "\n",
    "\n",
    "class ItalianDate(USADate):\n",
    "    \n",
    "    def __init__(self, year, month, day):\n",
    "        super().__init__(year, month, day)\n",
    "\n",
    "    def format(self):\n",
    "        return f\"{self.day:02d}/{self.month:02d}/{self.year}\"\n",
    "    \n",
    "    def iso_format(self):\n",
    "        return super().iso_format()\n",
    "    "
   ]
  },
  {
   "cell_type": "code",
   "execution_count": 2,
   "id": "011ee936",
   "metadata": {},
   "outputs": [
    {
     "name": "stdout",
     "output_type": "stream",
     "text": [
      "04-06-2023\n",
      "2023-04-06\n"
     ]
    }
   ],
   "source": [
    "usadate = USADate(2023, 4, 6) \n",
    "print(usadate.format()) \n",
    "print(usadate.iso_format())\n"
   ]
  },
  {
   "cell_type": "code",
   "execution_count": 5,
   "id": "17c0dfcb",
   "metadata": {},
   "outputs": [
    {
     "name": "stdout",
     "output_type": "stream",
     "text": [
      "06/04/2023\n",
      "2023-04-06\n"
     ]
    }
   ],
   "source": [
    "italiandate = ItalianDate(2023, 4, 6) \n",
    "print(italiandate.format()) \n",
    "print(italiandate.iso_format()) \n"
   ]
  },
  {
   "cell_type": "markdown",
   "id": "7837cf6e",
   "metadata": {},
   "source": [
    "## Второе задание "
   ]
  },
  {
   "cell_type": "code",
   "execution_count": 15,
   "id": "2075254f",
   "metadata": {},
   "outputs": [],
   "source": [
    "import numpy as np\n",
    "import pandas as pd"
   ]
  },
  {
   "cell_type": "code",
   "execution_count": 9,
   "id": "ccbbbc69",
   "metadata": {},
   "outputs": [],
   "source": [
    "np.random.seed(42)\n",
    "arr = np.random.uniform(1.01, 9.99, size=(10, 10))"
   ]
  },
  {
   "cell_type": "code",
   "execution_count": 10,
   "id": "95acc988",
   "metadata": {},
   "outputs": [
    {
     "data": {
      "text/plain": [
       "array([[4.37337027, 9.54741447, 7.5833056 , 6.38595319, 2.41104739,\n",
       "        2.41083079, 1.53159084, 8.78826179, 6.40801281, 7.36849175],\n",
       "       [1.19484876, 9.71979047, 8.48533491, 2.91680521, 2.64278821,\n",
       "        2.6569725 , 3.74209534, 5.72231276, 4.88886627, 3.62523768],\n",
       "       [6.50443899, 2.26265487, 3.63345894, 4.29992935, 5.10550846,\n",
       "        8.06088013, 2.80307056, 5.62782526, 6.32988283, 1.42712471],\n",
       "       [6.46575277, 2.54130663, 1.59416331, 9.53099212, 9.68137566,\n",
       "        8.26940819, 3.74543165, 1.88709558, 7.15441258, 4.96256939],\n",
       "       [2.10590335, 5.45668865, 1.31880892, 9.17569721, 3.33384423,\n",
       "        6.95945011, 3.80916546, 5.68021083, 5.91945831, 2.66999301],\n",
       "       [9.71686996, 7.97069275, 9.4467005 , 9.04554961, 6.37914181,\n",
       "        9.28843063, 1.80466267, 2.7699261 , 1.41614105, 3.93146637],\n",
       "       [4.50032206, 3.44671431, 8.45206283, 4.21364487, 3.5327919 ,\n",
       "        5.88341083, 2.27549954, 8.21372889, 1.67946478, 9.87224469],\n",
       "       [7.94475803, 2.79446682, 1.05958861, 8.33284363, 7.35757895,\n",
       "        7.55648437, 7.93600771, 1.67492097, 4.22902224, 2.05050415],\n",
       "       [8.76066876, 6.60721718, 3.98146426, 1.58075399, 3.80262125,\n",
       "        3.93014623, 7.56186348, 6.73526609, 8.97717043, 5.25049003],\n",
       "       [2.08395633, 7.41493819, 7.84184974, 6.05026923, 7.93328528,\n",
       "        5.44428446, 5.70414081, 4.84931834, 1.23826376, 1.97886501]])"
      ]
     },
     "execution_count": 10,
     "metadata": {},
     "output_type": "execute_result"
    }
   ],
   "source": [
    "arr"
   ]
  },
  {
   "cell_type": "code",
   "execution_count": 12,
   "id": "3235e984",
   "metadata": {},
   "outputs": [],
   "source": [
    "diagonal = np.diag(arr)"
   ]
  },
  {
   "cell_type": "code",
   "execution_count": 13,
   "id": "c24b84a8",
   "metadata": {},
   "outputs": [
    {
     "data": {
      "text/plain": [
       "array([4.37337027, 9.71979047, 3.63345894, 9.53099212, 3.33384423,\n",
       "       9.28843063, 2.27549954, 1.67492097, 8.97717043, 1.97886501])"
      ]
     },
     "execution_count": 13,
     "metadata": {},
     "output_type": "execute_result"
    }
   ],
   "source": [
    "diagonal"
   ]
  },
  {
   "cell_type": "code",
   "execution_count": 19,
   "id": "91528816",
   "metadata": {},
   "outputs": [],
   "source": [
    "def calculate_statistics(arr):\n",
    "\n",
    "  print(f\"Среднее значение: {np.mean(arr)}\")\n",
    "  print(f\"Минимальный элемент: {np.min(arr)}\")\n",
    "  print(f\"Максимальный элемент: {np.max(arr)}\")\n",
    "  print(f\"Медиана: {np.median(arr)}\")\n",
    "  print(f\"Дисперсия: {np.var(arr)}\")\n",
    "  print(f\"Стандартное отклонение: {np.std(arr)}\")"
   ]
  },
  {
   "cell_type": "code",
   "execution_count": 20,
   "id": "9bfaa0a1",
   "metadata": {},
   "outputs": [
    {
     "name": "stdout",
     "output_type": "stream",
     "text": [
      "Среднее значение: 5.23222307553632\n",
      "Минимальный элемент: 1.0595886117699496\n",
      "Максимальный элемент: 9.872244690672645\n",
      "Медиана: 5.1779992431116435\n",
      "Дисперсия: 7.06530462765493\n",
      "Стандартное отклонение: 2.6580640751597637\n"
     ]
    }
   ],
   "source": [
    "calculate_statistics(arr)"
   ]
  }
 ],
 "metadata": {
  "kernelspec": {
   "display_name": "my_rag_env",
   "language": "python",
   "name": "python3"
  },
  "language_info": {
   "codemirror_mode": {
    "name": "ipython",
    "version": 3
   },
   "file_extension": ".py",
   "mimetype": "text/x-python",
   "name": "python",
   "nbconvert_exporter": "python",
   "pygments_lexer": "ipython3",
   "version": "3.13.2"
  }
 },
 "nbformat": 4,
 "nbformat_minor": 5
}
