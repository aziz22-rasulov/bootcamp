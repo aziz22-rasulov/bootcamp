{
 "cells": [
  {
   "cell_type": "code",
   "execution_count": 6,
   "id": "dda94ee8",
   "metadata": {},
   "outputs": [
    {
     "data": {
      "text/plain": [
       "['__class__',\n",
       " '__delattr__',\n",
       " '__dict__',\n",
       " '__dir__',\n",
       " '__doc__',\n",
       " '__eq__',\n",
       " '__firstlineno__',\n",
       " '__format__',\n",
       " '__ge__',\n",
       " '__getattribute__',\n",
       " '__getstate__',\n",
       " '__gt__',\n",
       " '__hash__',\n",
       " '__init__',\n",
       " '__init_subclass__',\n",
       " '__le__',\n",
       " '__lt__',\n",
       " '__module__',\n",
       " '__ne__',\n",
       " '__new__',\n",
       " '__reduce__',\n",
       " '__reduce_ex__',\n",
       " '__repr__',\n",
       " '__setattr__',\n",
       " '__sizeof__',\n",
       " '__static_attributes__',\n",
       " '__str__',\n",
       " '__subclasshook__',\n",
       " '__weakref__']"
      ]
     },
     "execution_count": 6,
     "metadata": {},
     "output_type": "execute_result"
    }
   ],
   "source": [
    "dir(MyClass)"
   ]
  },
  {
   "cell_type": "code",
   "execution_count": 4,
   "id": "16cdfb34",
   "metadata": {},
   "outputs": [
    {
     "data": {
      "text/plain": [
       "['__class__',\n",
       " '__delattr__',\n",
       " '__dir__',\n",
       " '__doc__',\n",
       " '__eq__',\n",
       " '__format__',\n",
       " '__ge__',\n",
       " '__getattribute__',\n",
       " '__getstate__',\n",
       " '__gt__',\n",
       " '__hash__',\n",
       " '__init__',\n",
       " '__init_subclass__',\n",
       " '__le__',\n",
       " '__lt__',\n",
       " '__ne__',\n",
       " '__new__',\n",
       " '__reduce__',\n",
       " '__reduce_ex__',\n",
       " '__repr__',\n",
       " '__setattr__',\n",
       " '__sizeof__',\n",
       " '__str__',\n",
       " '__subclasshook__']"
      ]
     },
     "execution_count": 4,
     "metadata": {},
     "output_type": "execute_result"
    }
   ],
   "source": [
    "dir(object)"
   ]
  },
  {
   "cell_type": "code",
   "execution_count": 66,
   "id": "f35e6f1d",
   "metadata": {},
   "outputs": [],
   "source": [
    "class A:\n",
    "    def method(self):\n",
    "        print('Я второй по иерархии')\n",
    "\n",
    "class B(A):\n",
    "    def method(self):\n",
    "        print('Я третий по иерархии')\n",
    "\n",
    "class C(A):\n",
    "    pass\n",
    "\n",
    "class D(B, C):\n",
    "    pass"
   ]
  },
  {
   "cell_type": "code",
   "execution_count": 69,
   "id": "81c2f450",
   "metadata": {},
   "outputs": [],
   "source": [
    "c = D()"
   ]
  },
  {
   "cell_type": "code",
   "execution_count": 71,
   "id": "209624d3",
   "metadata": {},
   "outputs": [
    {
     "data": {
      "text/plain": [
       "(__main__.D, __main__.B, __main__.C, __main__.A, object)"
      ]
     },
     "execution_count": 71,
     "metadata": {},
     "output_type": "execute_result"
    }
   ],
   "source": [
    "D.__mro__"
   ]
  },
  {
   "cell_type": "code",
   "execution_count": 72,
   "id": "cab5533d",
   "metadata": {},
   "outputs": [],
   "source": [
    "from abc import ABC, abstractmethod"
   ]
  },
  {
   "cell_type": "code",
   "execution_count": 82,
   "id": "0487bf60",
   "metadata": {},
   "outputs": [],
   "source": [
    "class A(ABC):\n",
    "    @abstractmethod\n",
    "    def method(self):\n",
    "        pass\n",
    "    \n",
    "    def usual_method(self):\n",
    "        print('А')\n",
    "\n",
    "class B(A):\n",
    "    pass"
   ]
  },
  {
   "cell_type": "code",
   "execution_count": 83,
   "id": "28ba30bc",
   "metadata": {},
   "outputs": [
    {
     "ename": "TypeError",
     "evalue": "Can't instantiate abstract class A without an implementation for abstract method 'method'",
     "output_type": "error",
     "traceback": [
      "\u001b[31m---------------------------------------------------------------------------\u001b[39m",
      "\u001b[31mTypeError\u001b[39m                                 Traceback (most recent call last)",
      "\u001b[36mCell\u001b[39m\u001b[36m \u001b[39m\u001b[32mIn[83]\u001b[39m\u001b[32m, line 1\u001b[39m\n\u001b[32m----> \u001b[39m\u001b[32m1\u001b[39m a = \u001b[43mA\u001b[49m\u001b[43m(\u001b[49m\u001b[43m)\u001b[49m\n",
      "\u001b[31mTypeError\u001b[39m: Can't instantiate abstract class A without an implementation for abstract method 'method'"
     ]
    }
   ],
   "source": [
    "a = A()"
   ]
  },
  {
   "cell_type": "code",
   "execution_count": 78,
   "id": "427debdd",
   "metadata": {},
   "outputs": [
    {
     "data": {
      "text/plain": [
       "'b'"
      ]
     },
     "execution_count": 78,
     "metadata": {},
     "output_type": "execute_result"
    }
   ],
   "source": [
    "a.method()"
   ]
  },
  {
   "cell_type": "code",
   "execution_count": 109,
   "id": "7a8ec5df",
   "metadata": {},
   "outputs": [],
   "source": [
    "class Human:\n",
    "    def __init__(self, name, age, salary):\n",
    "        self.name = name\n",
    "        self.age = age\n",
    "        self.salary = Salary(salary)\n",
    "\n",
    "    def get_salary_year(self):\n",
    "        return self.salary.year_salary()\n",
    "\n",
    "class Salary:\n",
    "    def __init__(self, money):\n",
    "        self.money = money\n",
    "\n",
    "    def year_salary(self):\n",
    "        return self.money * 12\n",
    "    \n",
    "    def salary_with_bonus(self, bonus):\n",
    "        return self.money + bonus"
   ]
  },
  {
   "cell_type": "code",
   "execution_count": 102,
   "id": "6d90a159",
   "metadata": {},
   "outputs": [],
   "source": [
    "a = Human('Челик', 34, 3000)"
   ]
  },
  {
   "cell_type": "code",
   "execution_count": 108,
   "id": "2468176f",
   "metadata": {},
   "outputs": [
    {
     "data": {
      "text/plain": [
       "3000"
      ]
     },
     "execution_count": 108,
     "metadata": {},
     "output_type": "execute_result"
    }
   ],
   "source": [
    "a.salary.money"
   ]
  },
  {
   "cell_type": "code",
   "execution_count": 129,
   "id": "0478ee3d",
   "metadata": {},
   "outputs": [],
   "source": [
    "from dataclasses import dataclass, field"
   ]
  },
  {
   "cell_type": "code",
   "execution_count": 137,
   "id": "5bd788c9",
   "metadata": {},
   "outputs": [],
   "source": [
    "@dataclass\n",
    "class Human:\n",
    "    name: str\n",
    "    age: int\n",
    "    salary: float= field(init=False)\n",
    "    #human_list: list = field(default_factory=list)"
   ]
  },
  {
   "cell_type": "code",
   "execution_count": 138,
   "id": "5595d408",
   "metadata": {},
   "outputs": [],
   "source": [
    "human1 = Human('Челик2', 0)"
   ]
  },
  {
   "cell_type": "code",
   "execution_count": 119,
   "id": "949b667f",
   "metadata": {},
   "outputs": [
    {
     "data": {
      "text/plain": [
       "True"
      ]
     },
     "execution_count": 119,
     "metadata": {},
     "output_type": "execute_result"
    }
   ],
   "source": [
    "human1 != human2"
   ]
  },
  {
   "cell_type": "code",
   "execution_count": null,
   "id": "9393398d",
   "metadata": {},
   "outputs": [],
   "source": []
  }
 ],
 "metadata": {
  "kernelspec": {
   "display_name": "Python 3",
   "language": "python",
   "name": "python3"
  },
  "language_info": {
   "codemirror_mode": {
    "name": "ipython",
    "version": 3
   },
   "file_extension": ".py",
   "mimetype": "text/x-python",
   "name": "python",
   "nbconvert_exporter": "python",
   "pygments_lexer": "ipython3",
   "version": "3.13.3"
  }
 },
 "nbformat": 4,
 "nbformat_minor": 5
}
