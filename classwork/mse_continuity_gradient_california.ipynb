{
  "cells": [
    {
      "cell_type": "markdown",
      "id": "1aede072",
      "metadata": {
        "id": "1aede072"
      },
      "source": [
        "# Анализ непрерывности и градиента MSE для линейной регрессии (California Housing)\n",
        "В этом ноутбуке показан пошаговый пример, где мы:\n",
        "1. Загружаем датасет California Housing (признак `MedInc`).\n",
        "2. Вычисляем оптимальный коэффициент θ* для модели `y ≈ θ·x`.\n",
        "3. Вычисляем функцию потерь MSE(θ) и демонстрируем её непрерывность.\n",
        "4. Строим график MSE(θ) на интервале вокруг θ*.\n",
        "5. Сравниваем аналитический и численный градиенты MSE в точке θ*.\n"
      ]
    },
    {
      "cell_type": "code",
      "execution_count": null,
      "id": "bda329c5",
      "metadata": {
        "colab": {
          "base_uri": "https://localhost:8080/"
        },
        "id": "bda329c5",
        "outputId": "abcb836b-34b1-40db-aae4-43ca02791a4a"
      },
      "outputs": [
        {
          "output_type": "execute_result",
          "data": {
            "text/plain": [
              "['MedInc',\n",
              " 'HouseAge',\n",
              " 'AveRooms',\n",
              " 'AveBedrms',\n",
              " 'Population',\n",
              " 'AveOccup',\n",
              " 'Latitude',\n",
              " 'Longitude']"
            ]
          },
          "metadata": {},
          "execution_count": 1
        }
      ],
      "source": [
        "import numpy as np\n",
        "import pandas as pd\n",
        "import matplotlib.pyplot as plt\n",
        "from sklearn.datasets import fetch_california_housing\n",
        "\n",
        "# Загрузка датасета California Housing\n",
        "dataset = fetch_california_housing()\n",
        "X = dataset.data\n",
        "y = dataset.target\n",
        "feature_names = dataset.feature_names\n",
        "feature_names"
      ]
    },
    {
      "cell_type": "markdown",
      "id": "34bfde7c",
      "metadata": {
        "id": "34bfde7c"
      },
      "source": [
        "## 1. Отбор признака `MedInc`\n",
        "Для простоты возьмём только один признак – median income (`MedInc`)."
      ]
    },
    {
      "cell_type": "code",
      "execution_count": null,
      "id": "c84c3cba",
      "metadata": {
        "id": "c84c3cba",
        "outputId": "34a4bb7f-e54b-45f9-ecb7-3e42de94face"
      },
      "outputs": [
        {
          "data": {
            "text/html": [
              "<div>\n",
              "<style scoped>\n",
              "    .dataframe tbody tr th:only-of-type {\n",
              "        vertical-align: middle;\n",
              "    }\n",
              "\n",
              "    .dataframe tbody tr th {\n",
              "        vertical-align: top;\n",
              "    }\n",
              "\n",
              "    .dataframe thead th {\n",
              "        text-align: right;\n",
              "    }\n",
              "</style>\n",
              "<table border=\"1\" class=\"dataframe\">\n",
              "  <thead>\n",
              "    <tr style=\"text-align: right;\">\n",
              "      <th></th>\n",
              "      <th>MedInc</th>\n",
              "      <th>Price</th>\n",
              "    </tr>\n",
              "  </thead>\n",
              "  <tbody>\n",
              "    <tr>\n",
              "      <th>0</th>\n",
              "      <td>8.3252</td>\n",
              "      <td>4.526</td>\n",
              "    </tr>\n",
              "    <tr>\n",
              "      <th>1</th>\n",
              "      <td>8.3014</td>\n",
              "      <td>3.585</td>\n",
              "    </tr>\n",
              "    <tr>\n",
              "      <th>2</th>\n",
              "      <td>7.2574</td>\n",
              "      <td>3.521</td>\n",
              "    </tr>\n",
              "    <tr>\n",
              "      <th>3</th>\n",
              "      <td>5.6431</td>\n",
              "      <td>3.413</td>\n",
              "    </tr>\n",
              "    <tr>\n",
              "      <th>4</th>\n",
              "      <td>3.8462</td>\n",
              "      <td>3.422</td>\n",
              "    </tr>\n",
              "  </tbody>\n",
              "</table>\n",
              "</div>"
            ],
            "text/plain": [
              "   MedInc  Price\n",
              "0  8.3252  4.526\n",
              "1  8.3014  3.585\n",
              "2  7.2574  3.521\n",
              "3  5.6431  3.413\n",
              "4  3.8462  3.422"
            ]
          },
          "execution_count": 4,
          "metadata": {},
          "output_type": "execute_result"
        }
      ],
      "source": [
        "feature_index = list(feature_names).index('MedInc')\n",
        "x_medinc = X[:, feature_index].reshape(-1, 1)\n",
        "\n",
        "# Покажем несколько первых значений для понимания\n",
        "pd.DataFrame({'MedInc': x_medinc.flatten(), 'Price': y}).head()"
      ]
    },
    {
      "cell_type": "markdown",
      "id": "b4aee4e6",
      "metadata": {
        "id": "b4aee4e6"
      },
      "source": [
        "## 2. Вычисляем оптимальный θ* аналитически\n",
        "Модель: ![image.png](data:image/png;base64,iVBORw0KGgoAAAANSUhEUgAAAG0AAAAtCAYAAACkoOU6AAAABHNCSVQICAgIfAhkiAAAABl0RVh0U29mdHdhcmUAZ25vbWUtc2NyZWVuc2hvdO8Dvz4AAAAuaVRYdENyZWF0aW9uIFRpbWUAAAAAANCf0L0gMDIg0LjRjtC9IDIwMjUgMTk6MDE6Mzl1q30hAAAFWUlEQVR4nO2abWhTZxTH/26FXighHV1MmMEElUbQtrrGBmfXQKvXDdKW2a5OUkSrdhtOkbUyaRW2qsxZha0qrL6wNQq6ZC9ox0YjG6aOjmQfbArO3kIhER25Y4WENeQJBs4+tDKd1sZ4Y3vd84N8yM3lnPM8v5uTc8OdQ0QEjqp4bqYL4Dw+XJoK4dJUCJemQrg0FcKlqRAuTYVwaSqES1MhXJoK4dJUSBalMcgjYcRS2cvwxDAZvqNbsNpahCJHOy7dZDNdUVpkTZrcuxf1tQ5s+SwwO8WlZHg/cmL/6Gs48dMvOL7Cj65j/bOz1v+QBWkM0rn34Dydi33fnIEotWH7UR/kWbUZDOGv29DyowEbd1XDotXCvNAA+VcvBmMzXdv05GQjqLDwTZxw2WHRAvj4KMwDSSCVrWwZMObHyeNeCGvOoHaBAICBxWOIysCfcQAFM13go8nCNgowrbT/+7agBGK18lmehPDlU3CPmrGx0wZtDgAkEQlFEIN2pktLC+XaYyqGwJetaKxdjermYwjId4/LuLS7GvWfBDArOg+T0OfxQZ5nQ0XhpCQWgfR7BMJLFpgy9sYgXWhHvX0Fipa9ivp9HlzqbkXj+no0vn8SgTGlFgCAFCLq66CmPRcpdL2H6hYtpaZvIxMf3LpITUuM5Dg+TAmlkj0BidEecpo1pNE8+Fq02U2RO5nFjfzQQdsP9FEoQRQd6KBynY6s77rJ72khq/Ge/VAAhdpjDNJvMSxbZwMLbId/XI+d5olLNjbSj6GYAWKRAUKa0dhtH1zn+iGnM4ELetg2bIQ4P73oydEhBMcE2DuvwvO2BQIA+XIrVq//CpZXiifb5QMVQR4aQkRfjBL9Q/IwCX0DQM07IkwCIP8lI/q8CTVvVUAfH4Zt025sq9CnVV9aKKafiCgxTN3rjKQTD9PgOBFRggaPVJFxsZPcYUUzZUzorJOMOiu1+aKTR6J0ZY+VNEYHdUsP7wVRXxtZNRrSVd5d16OI0pW9VtKVtlCfcl+u+1B2EPnDj/6hJIq3irDkAWAy/AMSkvPXonBWTGQMSDEgzwCTIXfiUEyC92oY+sodWDvFt1W70I6aNySEXi6DOXeaFPEIhq5FoF1igyVLa1ZUWkyWEGYmVJSZJ1rhWBB+KQn96yXTL/YeHqs95uTDtmEbxAXptEcBQoEW+XlJvJA3cb7c74JXLkZzZy1MU4WYJ2Jfjzh12JQM35kuePMasLMsCN/1JEy7CqHPARAPwnXIC9Ou3bBPSmSyjGSBfopWPD2KSsvNMyBfYEimAIAhcKELvTdzIZZaHqtAYZ4dzR/Ypz8xA7QWGyxCLyJjDBD8ONnth6X1NHaszHzcZyMXceTAKSS22hG87UH/WC7EgnwIYJC+O4vAiw2onRQmX26Hw3kMwpZefL/fnpk4RZvtnSgNftFCzhoHVa0qp/ISHWkMVdQVnA1z4yR3ouT/1EnW0nKqqmmiDo8CU+34MLlb66hq1VKyNnRQz+ct5KioorrNLdRx1n/fRBr5uY3KdRrSrGojf3TqkI9CUWnRWyGK3P2hToSop8FIusrDGRf3zDI+SF2tXRnvi2I31+xaJ+qWF8FxwIcYAHbDDdcAUNFQg2J1/NHw1GCjfoTziyeGtQxQTFry7yhi2jKIlYuhjUtwHXJBXnMQBxstad+f/S+IS3CfH0FhtS3jQWQOkULP8scluD5sh+dGEtq5c2EqXY/mTSJMGV5NzyxMRvAGg2W5KeOLWTlpnKcGf9xAhXBpKoRLUyFcmgrh0lQIl6ZCuDQVwqWpEC5NhXBpKoRLUyFcmgrh0lQIl6ZCuDQV8g8oPqzWGrzDtQAAAABJRU5ErkJggg==)<br><br>\n",
        "Минимизируем MSE:<br><br>\n",
        "![image.png](data:image/png;base64,iVBORw0KGgoAAAANSUhEUgAAAQYAAABECAYAAABj0pvvAAAABHNCSVQICAgIfAhkiAAAABl0RVh0U29mdHdhcmUAZ25vbWUtc2NyZWVuc2hvdO8Dvz4AAAAuaVRYdENyZWF0aW9uIFRpbWUAAAAAANCf0L0gMDIg0LjRjtC9IDIwMjUgMTk6MDI6MzLwzAtHAAAT/klEQVR4nO2df1Bb15XHv91ohufBWOq6jjTBtZjEReyGIMdg1CayGEMr1w3IGxPjxri0wTHbFuNsCziJMU0KIU2BZLpg7/hHug6K2zTgjYO82wa5Y1u0Y4/I1JHoOOPHjjN6rvE8dczkvSyMLmNlzv6BbH5IYCD8sOF+Zpix5PfePe+++7733HPPvfoSERE4HA5nBP8w3wZwOJy7Dy4MHA4nCi4MHA4nCi4MHA4nCi4MHA4nCi4MHA4nCi4MHA4nCi4MHA4nCi4MHA4nCi4MHA4nCs18G8C5xwh60FzXDLdqgj1TB6YE4b/4KWwvHURJmjDf1nFmCO4xcKZEsFuE4cltMIqdEB8oQNnzlShIlODtDs63aZwZhAsDZ0poM7fBJgQg6e0oyjZCGJAhSoAhUTffpnFmEC4MnCkhaOOgXPIj9JAFxniASZ3w9qfA8hDA2Hxbx5kpuDAscIIftaEqPw9VZ9WZuWBYhdgtw7jWBL2GIXjRC8WcBW2XE609XBkWClwYFiQqPC+uxyNfz0NpdQ2aTweghmfo0oMyxKAOax7WAxCApTrA/y6cV0zYmMyDjwuFL/GNWhY2wZM7Yd3ZhY3v/hkHvqWdb3M49wjcY+BwOFFwYeBwOFFwYeBwOFFwYeBwOFHwlOjFwqRmJRjEtypQ8fZlhGawaN1je3DwJQf0vLXdM/BHtShgkb87zUoIMDyoR+hjJ7oGAGjMKPuvE6jboB99WJiBDQxC7VfABhgYY1AHFCiyhMAnInouifB1+9HVE0mT/rgJrVvsKHuUT2dOFXbVjeZXmuG6KCMucxderS1B5vI5KJg4Cxr5vWJa/eXVVPp7eZJnhMh3IJdWJiRQQkICJaSXUvu1aRZ+w0ftL+dTakICZfykg5Sb07zOYiUUoNaKYqr3KET9AWp5JoMyftRO8hzU46KOMQRP12L3z90ITsbNDgfhrtuNhtP36GKhSSc4CTDvbETdkxEvoceJquo2SNNJalxuhuOlE/hjeyUMf3kX7usxjlH9cFZW4Ej34s2aZB87UfGiE+LAmP/4XIHc04XODwNg8UZkZZugnHfD2zcHRs2+9tydhPyHqdBRHrs3vOGlw2W5lGFOJeuPWuhyf+T7ax20b3sptYihuTR1GoTo8jvllJttpYyUSM+/OoOs9nwqbwvQpKyX2qk0PXJuwkrKP3p5cufFRCFvYyEVHxtzjZsydbyQS4UHfDGuHaKAq4YKbRmUmp5P9Z7Jejz3IiHyHSqmwlfOTeBVhcj7Wg6tttWQV5l9i2ZHGORzVONIpRW33NHVhdRyJXazCl1pocLVww0wY3t95MZDdPmdfZRvSaXUx3Mo15FPxa+0UMexcio94KNQpDJzHx8uZ2W6lXKycygnO4es6atvf5/TOKbh9fuofouVit8JRBt0w0v1W6xUeMhHiuKjpi1WKm4bPi7QVko5RYfp8t2uDTOAfGYfWVdEns3KXGq6+AVaZEimgDT6fPm9UrI+EauhhyjwTilZn9hHHVKIZFc5WR31c/JCzBuKl+q35NK+M+PcpHyOyh9PpcKx4jpLzKrHoHhqIi/ueD1OiC4fK6ac9BWU8GUr1XQNHyH/vpys6fnU1BWpqJsKeQ8UUqphBeW8NuJFD12mJvsKSliZHy0+8jmq35IaNb6VXaWUYSunjrGd0E2ZOiqstNpRT77+yOeyDErd1To8rlO8VO/IGf8BLigU8jbm3hbYFdk15L0xQ5fu91G9I4PyD0W3i5D/MOU/nEGl78mRz02U+3AO1XctbDUOtBXH7nRuytSxP58KG8/NSXyBaA5iDPdnFiAvWUXn+25IY8dQAxK8ogFZa42jvw9L6DjeDiVtGwoejUTSNVpk7qxDpX3MsROhz0LZ/hKYmAzl1hibSeg44YFgy4NlTLCd/dWJ+hMKbN8rgDl+6Du1X4FyfcT52jTYHwPcb08yNnFPo0XmDxvxyqahZ8A+bEDpazNz32q3Cy7JCMe3jBg1VxEOwn2gGV69A0XZkQc0qEBRg5BuzNAK0bsU4zc2wyi2wvXX0fGW4FknvA9V4+BzFuCv/uj3aBaY/eCj1ozNm8xgf2mHa8yyXHbFA/ErWTCPnX4JM6iqimBvAPLIShD0yNqQBsO4k6yRJjbgR/OPq+AOAsKqNJgEFcrnkUP6/PBcApLXpoyevAsH0XnMiW5tFratj4jPoIyApGLwvrhRZRjSUoCPPfDPRRBovok3oai2Do7IOyoeLse+9yV8sVAhQ+C8B7LeArN+9BQm62nF0dMK1jgcSIs8IPVaAPIgIGgW+HSnzoQ1+iA6z4u365d1O9HkFpCSqMB39hRaXd7hTmoWmX1h0GhhdjiQiS64XN0Y1nwG8YIEo80UPbsuGGBZZwK7UItn9zTA9aEUWTYsQJ9dhKJsAyZqIuoVL7xXB4c+LM9C9Rtltz0Adl2ENKBHStKYUoNevHtagjbTPixUSg8uX2fQP5Q0Soy0BiO0/RLE4OKIpAvJBair3YohbZDQVlkO5xeZRQir6BGDEIwmGEZqLhi6T7XDy0yw2UyRZ8wg9fRAjUtCcmJc9LWYBFfdDqz/+jo88vU8VLzlgvPFHXhq2w7sft2NuX5Ewc5m7N6Wh2/m74bzo1utnUE8vhvf/P6R6JmHkcTpYEwUIIuR9j7gx9HqKjQfrsLO/Dzk5e9E/ccCdDGqYaaZk+lKXbIdm9MF+P/QDt+tXlbtRuc1E7KSY20JpkXms9Uoe1SAeLIWO3IewVe/+gjWb96J5ktJsD2qjz5FdWP3mmVYtmwZvmqtgCsQu0WoNyQEoYN+rC50u9HVCwR/twNf+8eh6yz7p51o6xWQZDIiboQwCFo9dJAh9Q1Oqz7uPQQY/+VnePW7EU+qz4391Ufhn65LG1YgX1cgLNdCGOn9DUjw/qkbbKALtVn3Dz2DZffjm3V+sOUmJI3xLhBW4TnYAK+pGqf//Cccfxpw/rQc7qRdKPlnGe2HjqDj+hwqQ68LTccZtv6iGhuVdjT/1jfUETIJnpMdkMIChIleao0A7XIBSlAGCwOIN6Os/W/47LPPbv/97d0iGOfAcZqbzMd4E+x5FtS/6Ia7ey+yNmih+j2QTQ4Y4wE51jmJdtR1/C+KLrTDdcqNjjNudJ1tg/9sN4K/+W805o0RB60dBzwnUPQgoHYfQem+npimMFUB4rTQxY+sXQapyw9JMKP6f06jcp0AQEVXXS5y/x2wrR0zDo7XQath+LRPwZ2zCUeU0uuB83jn5HoxQQ/L00Wwr7pL3GfBiK0vvQ7vxadwpAdgZ2ux/00b2p4zT+i9xWRQhfJ/ArRf0WHUe9LXDa/IoH/q1/jzka1DKdRX27AjZye8ay0wj63qoAedShZKSk0QNCoUWQYesKFgUwriTqZgW8VWbLxVf30e1JY0Q3jheOT5zjzBbj8GbQVYo7pQ2wMYv2cYur8+EV6RwfiMeeiexrUlDjpdHKAEERzEnAjAeMyNMGgEGL+1FZbG3XCf8mLvN8zwXlBgetIIQTNBrytoYdpQhMoNRagEELzQjNLtVXC+2Ypd2WUwxcc+TfuQBZZVUuQTg/hmBZyJ1ajbpAc0cYBmyZiAlwo5qAD3Z8L0wK04RQCeMyLwSCXsUTsTCViiAZQpdkZCYhZKns+a2klTZNmyZZM67rPPPpv6xRPtqG6ohHdbA/yMwXPsKDq/ewD2GA7cHdEAS8a0PqbIkPsFGB9Ohjbyf8G/fABvnx6272RGr7VIdKC6NvLvgQC6L8rQpu+F5QE99M8dwKiajk/Bxh+UQDveLlPhINw/L0X9eeWOpusy9+D1lxxRL65+UzUawdD1yw50ayxofGyoQ1GveNHdp0NWWtJQu5vIFs2SKSSjzR6zLwyRmxRWZWHbej12ut+FeyvDZbYGRasEADGEYcCPIy+6YKqqRtaIRqf/RhH27nCi85QIqR/jCgPizSj7D3OkfBXilRAM6UPdjU67BGAK1LHFhgFBnwJjZGTDrnSioycOlhfsMI3tqQZVKAOATnuX9OYjmNYLPwW0G/bg9XIPcn+lougX1dMThTgtdEsBRRnzED5ngEYL44ORGFI4CO/pLqirNg4HhMcj2APvVSDFkXZbVEYh6JGZZx//fI0e9toTmOCIyTEgwfsnEXFrq2FZJQBgCHzohSSYkPZQ3B1tGVQUMEEYNXSdD+aueI0RtryNML7fjqZfDcK24/UJXSW1twudooqsMcGAUBiI0xuhXxrrLAaMdWyDXrg/XgL7/ZHvl+qhg4RP2YhjI2M7bVAL4T4AYRXetlaIxm349VPRrjJjn4Ldp4PeMDVhmNJQQqOD5eldsD94d4kPu+pBq1tF3i+O45VN01EFDNW3TgDrD2EwjOE4g1YP3VIBX14aCTt+0oHWTgZbWRlssYrq88N5oBXMvgcb5Q/gVQwoWDskKuyTNjS8E4eS5x0QPnKi6ZgL/uUlOPiSfXZXefZLEK8BpqctQ+2bBeE/LwKrSmDWC1A/nMCW8CBC/Qw6Q9KYoOwEMAamEUbHamaAWawiBuV6AH8PpkBhgFYA9I85sHGVE0dEHaoz79CoFC8afvpT6Bp+hl3rjRA0gPqhE81/AOz7h/MMJmRAguv1BrQrdhRFhESbmIJkwYWe3kHgtiunRUp6GnTnJcgDgOGqE82nddhTH7tHHOztQVBIhvmBqe2hOBdDiVmlz4OGH9dCzG7E8R2mqccWbqHRIyVZD3ZRhBzOut3DC8vNsKwC/L0KGGNwHzoKyfYqjn8/dlnS2QbUHhSx+WE7cLITQRhhiI8DmAT3sQ8A26vQD4pwiQZszDbAczIAJYzZFQZBB/1SwB8e8obUC0fQfFaFfocFhrAIz0S2hGWInzDoH0uO7fWMgV11oaKgFB2Je3DiPyujYzBfhFlJm5LP0T77ykiacwKtTM+nGrdMdFOhcy/kUM7L50ghIsVTT4V2K6UaIseZrZT7TD15e33UVFZOLZ5z1FKRTzmPW8mankqrLflU896tTLlISrQt4/ZKwNWW4ZTonMeHv19Z0EKBW9lkoQC1FKSOzp4kIuq/TC27rJTxeA7lbt9HLeOm/4bI91oOZRSNuOZiIBSg1h9ZyfqT9hm5b8Wzj6zpxVFrVWR3DeVahtZ1FDd2TFhWSOqgmqJcsqZnUG7FYWrZn0/W7FwqLNtHh89E1oTcVEiWA9T+kxzKPzA36cSyp4lKC3Ipx2YlqyWVEhJWUuHbgTvbcq2dii05VHN+klm1UisVmxNo5RP15JvhRNxFuYgq8E4xWR3TrEzFR/UOK5W6FvKinjHclKljfy5lbD88cw1Q8VLNE1Yqfm8O6lHuoHJ7PjVdlElWZlkalAAFbtzuhcjXmEMrknLp8KXQHW2R24rJuqVpKB1/nlmUy66Nm/4V9s870Hpx6im26sVWdGoc2BVz0LsQUeE/XIqqjzLR+EbJzLmr2jQUfTcZPSfaIc5yqkHwohs+gx1pcuu0nvmk6fOgauMjWFfQPJTj0edFa1s39BuKsDESKxrXFiai45QE8w7H5IbJs8yiFAZoM7Fn70ZIbx1B11TSmvu6cORQN9J+WDSz47m7Fgbxd1XY3arF3jcqR80QTZXgH6qw+6B/RCq1AOOTe7FH78bRL5xiPTFCvB66vk60XTTAfqfY1heBqZCZHpbvZCEpTkXXm41o1RSh7uW824H22LYwSO83o+2+ApRNZS3QbDLfLst8Irvrqfy1Sa5YuynTuddKqcY1yf0MFgCKp4ZyLCNWuE73Ov7DVGzLpyZ/jJpTfNTyQjm1XFoAtXpTIe+hUsp/IpfytxdT6f4W8l67832FLrVQecXhmVu5OgPwX6JaaDAJrrrdqD0pw/h0HeqeZGhtdKKrNwhlqQXfe6EaJevu7O6wqy5UPNMEbcVvhhLDpmcMpFMN2L2nAb60Ovzxt+MnpXHuMuZbmTgzi+Kpp/JDXvIdzaeVCSso45mmoZ7oZoBatq+m1QWTmE1RfNS0PSd6x6XJ0h8g79s1VGxbObwD1BxtMMKZGfgu0QuJsArfhSCS7XoorRIG9XaU7d81tKswi/xMvYCJs1eYCGflDlSdkoBT63CqWg/tch0MWgH4fGhHaMZYZHfoQagDk4gO6LOwzWacft4DZ87hwrCQ0GiR9XwjsgZENF+UoX1sL7JuLyLyDy3k2WWeMMEneLYVLkmPzHUxhg+aOMTFaaGdYuDVkF0E292yGIwzKbgwLET6um+vG7glAsEL7egcMGHPhokzFvWbqnFiU/WcmMm5e1mc05ULHFX0QmRJyMyMLEZiEjpPdYKlbYY9MQhXXS3cvfNtJeduhgvDgoNB7PJCXm6B7cGIzz8YgO8KQ1KmBUKPC25mgXmx5GdxpgUXhoVGWIXcF4c1eXlYcysWoLWg4NnN0J2pRZVLi6J/m+QKw3AQrso87HxTnGICEkPwIzdcF+7RH+fhgOcxcCaAQep0I7DSjqxJLv9mn7jQ/KtWdHR6seSZE9Pb4Ykz73Bh4Mw84SDaSnLhNL/JheEehc9KcGLCej1wHnDCfT0Fe9+oRKZGRNtbrbg83s5nXzGj4AcOntm4QODCwImBCvHC32FyZKHzZQ9kBiDRhK3P8WnMxQIPPnJiEIek9TYYrnggJ347+geBOAse7jFwYiBAqw2i/YwEY3YaBFUFBuWJhxK6FDh+sHWRLEdf+HBh4MSEXffA05uCb6/qhvOUipJnM/lQYhHBhxKcmAhxBhgECR+8H4DZnjbpn9VhvR4c+WUDnF0SfK4m1B50TfyzbJy7Ej5dyeFwouAeA4fDiYILA4fDiYILA4fDiYILA4fDiYILA4fDiYILA4fDiYILA4fDiYILA4fDieL/AYpfm6esI6TNAAAAAElFTkSuQmCC)\n",
        "<br><br>Решение:<hr>\n",
        "![image.png](data:image/png;base64,iVBORw0KGgoAAAANSUhEUgAAAJAAAABDCAYAAABz7Iw5AAAABHNCSVQICAgIfAhkiAAAABl0RVh0U29mdHdhcmUAZ25vbWUtc2NyZWVuc2hvdO8Dvz4AAAAuaVRYdENyZWF0aW9uIFRpbWUAAAAAANCf0L0gMDIg0LjRjtC9IDIwMjUgMTk6MDI6NDUh6QgjAAAObElEQVR4nO2bf2xTV5bHP7MTKQ+lqV1lGVsDwggQZttOTLvUVhHEatOamZ0kTJsEpk1IKW1C2xC2nSQMJM22ImSnE9PVbAKzTdqqxWUExMx0YqSpYkYlTlewDrsQZ9RRXiWiGLUrv6rR+lVEfhGR7v6R0FLyy8b5NeR9pPwR+97r+977vnPPPfec7wkhBDo6t8nfzfcEdP620QWkkxS6gHSSQheQTlLoAtJJCl1AOkmhC0gnKXQB6SSFLiCdpEiZ7wksfDTk0/U0npBZYndhRSESDiGbyjha68K0yO+gboGmQ5UJRp1stw8TOK/ieKGOulIHXAoSHprvyc0/d/D7oyEfLWTzgQAaJqwPWDBMcrXDQwoDfw2j3vSZ9fnT/LnRhSHNytYnjPgPxLA/tQ27AZQrfSiSA0PqnFzIguYOFpCEtbiOal+Q+gtGnPt/x+GfmKZor6H29+I/0UTjER/yxz6Cgy5cJgkDA/T8r5H195pgRCF0Poxp417MwxpI0pxd0ULkzl7CDHYq3qjDmSHTeqAG31VtisYShlV2CmuPc/G/z1C9uo9T58IAaF/0In/fRqZFArWPwBUjzkyFU8e7UEbm5lIWKne2gADpgVIOv5aHqd9LZbWHUDx+yzIn1b8qYUl3gLAGalhm2GJjXRqQsgSjFMX/jh9ps2PRO9HfWxT5QFoY794cnjsZxlZ+mtP1+u5pprjjLRAAkoXC1xooWQuho7W4P1Lme0bjUC+2sidnMw+tf4jNz7jxfehmT1EBxbtq8fSq0w8AKF3N7Nmey2P5e/BcvtFHQz6+h8eeaUWejV2jWERE/DViwz3pIn1dkTj2aWy+p/MNMblNVFY0ic6IECLSIcpt6WJpVo1oDxwTu2xLxYb9nSI63SCft4ua0kbReSUoGh9dLjZUjfWJ9YmWJ9eINU8fEwPXZ37ui8MCjWF6fB9Ha51IX/ioetFNYHC+ZwSgIZ/rwVRQgtME2lCEyJBEZt42nOYlmLMqqHvWgWGsbfj4c+Tu9Y1z3pXeEMNZeaxXA3R8Bpb7zKQCDMoEZQ3Lg7bRZXswQH1+Ae6LU20oEmDmNbnAiQ2IttL7RXr6clF0YmC+ZzOOiK9c3L98kzjYPbHNickdov18RExsP2Mi+Ea2WLoyXxyTR1tEAzVig/l+UekfGy8WEUFfh+ib1qTFx6KyQABIFuwuJ/bcfez9iSX+frf75moq8lkfgSlDCDdQCV8KoWTYcKwwTNhCWusi72ETE0afhsIEP5FJfdCFY4UEaAxcDBKWrGSuHot6SibsuS6sEw+fMItOQFqvB/cZA/saK7AnchPT1rFlZxl5a+MPHCrnmql6qZjil9z4B4YnmxHhs25qG3zIygCB8zKp99mxZgCodB+tpfWyBloY379XUZz/HK29k4jxWhj5c7DaHVgkQFMInZdhhQ2bSUK96KH+pQIK6vwzFr9aXAJSAjQf6cX+yzpcyxLsextvrumRCg67K3D+cIozD7UXzyE3nu4wke42fBc1jBlmJEC9fArPFSvOtRLq5W6G7bnYCBMenESMkhHTXTA8Mvq9eqGV5nMqJpsD84hMQDaz5VEz0f4BojMkoKmjIZpC4GgN9Se6Ucx5NPy2jrwVY2+gFsbXEsCyswTbDJnDWUUL4z3iRXq2gZJ747AiIxrhqyqmFSaGL3toes9HKKOMo6+5MFz187Y3SHQSQyBZ8ygrsE169vYdDFbydmyj+4SHPb+2UtLUQPhkPUVFp1hv/zGlrxViTQNtbRZZ/W2curaesnsnueEGO2X/ug/laD05zijDw1HkEQN5diumNCOOxyWCv+7DuLFi1ELNBJN6R9cjomN/tsh+sU30RaOi8/VskV3VIaKxiOg8XCkOvtcmGl85KNr+0CRqDrWLgYWzKx7P9agIHqkUB30Dkzif44n4a0TRK+0iEu0T7R90iKC3XGQ/3SL6Er3OrzpEZVa2qAkk67XGRM+RfJFd1SEGPo+I2ERb8uiAGPgq9m37w9li6coc0XIjZBHpEJWufNF0KSIi0Zl5YJMsYRrh0zVUfmSm5OVcrAYDK1ebUS746Rky4XjChbG7hVavh6Y/RnEUOmdO0TOORuh4PW1pO6jOtUzsfN7SXjnnprzaR+pGG6Y0M47HrUTO92HcOI/XOSTT1TWMIyuVwMkOwreuYoMBarf8iIe2NY8e1wwGafP2YnqkhC2rRietXPLTY3aRGWmj7VJ8wcnpmNjIDgZpPeJHevxdtq4a9ea1IZWoAl8OqcjdQWQsOGxLUD/34/Fm4filcwEeD2jIJ+t5W8mlrtI2tXhGVMJ/CdD2H27cJ0Noywo5/rAFUsBEkK5PjTh3GFFVDQa7pl7CVm+h7Of2+JawePm+EXMGBM74sRTvxZp2y/eaSkQz4Sh0sjJVpfvIYdpSSnjz9dxvRC+lmTAOduG9tJWKl6fKTEiAiczSwIkisca8SRw8f8PsRkXn/g0ifU2RaAsLEQ0PiEgkKBpfPCg6whExcGWyuMT8Ej3fKHKWp4v09MT/1pS2i8jYMhH5U6XILmkRnX9qEk0fRxKbxIwtYdNwPSqCb5WL/J/miPynd4nyV4+J4Oez/1TGvyOaTIc3gLJsO1lrx5w1LYL81wjSD/OwGMBgsGAYMZK3IxXjD0yYFujylbrMRd3v7FQl3HMJxtWZ31jU231z1YseWtv8BD7rRXq3EfeX2yj7WZzOdaKkGLDvPsLp3bMw9hSMO43X+j08n70H3wRhflPBu/xna+ECXKp05otxUhi+0ktoUMLp/gTvbisSoJyt4rHtp7BuzJyht0cldNqD79NoXK0T2hbrzCnjHklUiRCVLGT+g3nM6VTp+zhAOG09FVnx7GLiwYCtoAJbwYwMNiF333337A1+B/H1118n1f8WAWkwokGaGYt5LHqqyvg/CWN6tIItKxaoszMByd4Ynfi4RUASUoYBY9ow96SNxQ66PPiVTMrcW2cwBpLgEjYb2+I7jSEZ7xv1eM7JRDKc7KuvozAz8SMCbUhDSkvgQd+6LYvJLSL/H3NEUygmxFed4uBPN4iit3oW5DZ9QRDpFE0V+SKnpEY0HWkUjYcqRdGTu0RLaC7vWEz0vV0uyt/qEbHrUdFzJF/cn1UjOr9KZIyoCB7OEWtWbhDlf4g/zWXcOy2t2s6+HV2U73qc9mVrce48zjsF1hnyfRYO6oV6cra4CSFhybRiSp3kwHNYJXxFRrk5HfSBav7sqxutEeuVMT+xHcuBJuSfHefwbgn/L4po71Uoy0wgXSQphomEQwT6QyjP2LBudrLyN234P1VxZiVghUZio4HSREhY7HcK1yOiY/8mkZ6+VGQfCk6bMhqL9InO92pEvi1dpN+zSRwcCwzGolEROd8ocvIOimBUCBHtEY152aLm41kOHE5B9ONKsWHdTWdgs8jiSue4mRQTrqpDVD8E3W+W03h26kR7yWTFubOB0//1F47vNhL4KIg6ApIhleinIWKrHVjSQAt3Eby2Dsdq0GYoazQhRsL4TwTgkVK2JpC7dLssXgEBZDjZ+0Y1zjSZ5ldq8PbH8cQlC3n7D7FVDRBQgBEVuTeC5UErphQN5VKQqM2JodtD22dzrSCN8B+bOZVSyju/ypuTgO/iFhBgeKiCQ6+6MFz1Ur63me54DqkNNip+20DeMmA4gqwYWX+fCZDgLiOERhPBtsyBBbgZrd+PR3bQ4C7DqnYTUmZfwIujsHA6NBnP7hz2fKhir/Ty+1rnwgoZKAHcB+pp61Ugw07Jnh8TPXOK0JABW8G/UP2EBWmwm+Y32knNcmE1DBO+EGTJE9UUzraIZ93L+hshFm4Tu+5LF+npo9vYBRO2uNYjWioqxbFLUSFiA+LY02tE+soc0ejvFE1PrhHLH20UPdeiIvj6pu9mFNy3S7QnmDhwO+gCuomIv0ZsuiddpC/PEU2X5m8XdTPRQKOoeXssDnetRzS6lorl246JvkiPaKkqF43++RW7LqDvMJo2ujw9Xdxf0SGis1DJmQyxK8dE/prlIuetvgVjIRe9E/1dJKyPuHA+XEj1C1kLyw8CVLkbWVuJPdM8cWB3pqtO40AX0M0MdtN8uAtb7b/FV7nxDZOXHE/XT7nsx3dh8hiU9pmP+gNu/FcV+rqCKAYbjlWj0WXlrJvakzLfyOU2ateSRRfQDbQwvt+0EM1toCKR8D8AEib7dkqfcsRttbR+H+69z1P0bDlvd0eY0GaMqHS9VUvzmRCRK114P5LRjAaMEqAE8HwYxWG/KcVmhqtO40HfxgOgEXr/VT5gB4d2TpN8P4Z6NYz2A0ty6bwjCt6yHDy2d/D+88S/q3S5qXmzg94wOEpLsPyPB9+XZmw/cpD3bCmuMWujXvxu7dpcZY0usFV+flDONvPBYC7VkzzEW9Gu+qg/ECS3qQETYXwtzbR1/R9Zrx2l7N5huk+20nFlspINE46nSnDFmVtlyqrm3azqmz4pofrWRkPfVp0GPhytOtUFNEeoF5pxd62koja+siSt30f9i5UEMo9SZwD14ljJcVf9aMlxigF7cTX22Z/6t6SaZ6fqNA4WtQ+kXm6l/gRsqyqc5qZrqP3deBuK2byhmOYLRlz/NOrvpK7NIiull+C19TgnKzmebVIMmJBHa9c2GhNPyUjmp+fslxYaX/hpfPlVWi9rtL5fm1jftS5cY9l+UoYB+WSAaGYZ1hEFTZPoPT3FEpZixPFUKa5VM2smblSd5kbaaItuo+KRuTFDi1dAd1nZWu/FdRtdl/z9OjIzxv65UXJcPFpy7HihZO6XMGap6jQO9F1YsmhhvL/Yw6mRTFzFeynLiu/haV8E8Lx/hjMnPPSYcil5cislO/PGlywvcHQB6STFonaidZJHF5BOUugC0kkKXUA6SaELSCcpdAHpJIUuIJ2k0AWkkxS6gHSSQheQTlLoAtJJiv8HMF5+C2q7iOoAAAAASUVORK5CYII=)"
      ]
    },
    {
      "cell_type": "code",
      "execution_count": null,
      "id": "48e93507",
      "metadata": {
        "id": "48e93507",
        "outputId": "d2af3eae-bee9-4eee-a58b-fca8a8b483ae"
      },
      "outputs": [
        {
          "data": {
            "text/plain": [
              "0.5118060438413631"
            ]
          },
          "execution_count": 5,
          "metadata": {},
          "output_type": "execute_result"
        }
      ],
      "source": [
        "theta_opt = np.sum(x_medinc.flatten() * y) / np.sum(x_medinc.flatten()**2)\n",
        "theta_opt"
      ]
    },
    {
      "cell_type": "markdown",
      "id": "ba920464",
      "metadata": {
        "id": "ba920464"
      },
      "source": [
        "## 3. Определение функции MSE(θ)\n",
        "Объявим функцию для вычисления MSE при данном θ:\n",
        "![image.png](data:image/png;base64,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)"
      ]
    },
    {
      "cell_type": "code",
      "execution_count": null,
      "id": "825e11f1",
      "metadata": {
        "id": "825e11f1"
      },
      "outputs": [],
      "source": [
        "def mse_theta(theta, x, y):\n",
        "    y_pred = theta * x.flatten()\n",
        "    return np.mean((y_pred - y) ** 2)"
      ]
    },
    {
      "cell_type": "markdown",
      "id": "bdb9a269",
      "metadata": {
        "id": "bdb9a269"
      },
      "source": [
        "## 4. Проверка непрерывности через вычисления в нескольких точках\n",
        "Посчитаем MSE для θ вокруг θ* (Δθ = ±2, ±1, ±0.5, ±0.1, 0):"
      ]
    },
    {
      "cell_type": "code",
      "execution_count": null,
      "id": "0235641b",
      "metadata": {
        "colab": {
          "base_uri": "https://localhost:8080/",
          "height": 211
        },
        "id": "0235641b",
        "outputId": "e0e4b49f-5c8b-4a4c-fe75-46b26f531697"
      },
      "outputs": [
        {
          "output_type": "error",
          "ename": "NameError",
          "evalue": "name 'theta_opt' is not defined",
          "traceback": [
            "\u001b[0;31m---------------------------------------------------------------------------\u001b[0m",
            "\u001b[0;31mNameError\u001b[0m                                 Traceback (most recent call last)",
            "\u001b[0;32m<ipython-input-2-1042bed650b0>\u001b[0m in \u001b[0;36m<cell line: 0>\u001b[0;34m()\u001b[0m\n\u001b[1;32m      1\u001b[0m \u001b[0mdeltas\u001b[0m \u001b[0;34m=\u001b[0m \u001b[0mnp\u001b[0m\u001b[0;34m.\u001b[0m\u001b[0marray\u001b[0m\u001b[0;34m(\u001b[0m\u001b[0;34m[\u001b[0m\u001b[0;34m-\u001b[0m\u001b[0;36m2.0\u001b[0m\u001b[0;34m,\u001b[0m \u001b[0;34m-\u001b[0m\u001b[0;36m1.0\u001b[0m\u001b[0;34m,\u001b[0m \u001b[0;34m-\u001b[0m\u001b[0;36m0.5\u001b[0m\u001b[0;34m,\u001b[0m \u001b[0;34m-\u001b[0m\u001b[0;36m0.1\u001b[0m\u001b[0;34m,\u001b[0m \u001b[0;36m0.0\u001b[0m\u001b[0;34m,\u001b[0m \u001b[0;36m0.1\u001b[0m\u001b[0;34m,\u001b[0m \u001b[0;36m0.5\u001b[0m\u001b[0;34m,\u001b[0m \u001b[0;36m1.0\u001b[0m\u001b[0;34m,\u001b[0m \u001b[0;36m2.0\u001b[0m\u001b[0;34m]\u001b[0m\u001b[0;34m)\u001b[0m\u001b[0;34m\u001b[0m\u001b[0;34m\u001b[0m\u001b[0m\n\u001b[0;32m----> 2\u001b[0;31m \u001b[0mtheta_values\u001b[0m \u001b[0;34m=\u001b[0m \u001b[0mtheta_opt\u001b[0m \u001b[0;34m+\u001b[0m \u001b[0mdeltas\u001b[0m\u001b[0;34m\u001b[0m\u001b[0;34m\u001b[0m\u001b[0m\n\u001b[0m\u001b[1;32m      3\u001b[0m \u001b[0mmse_values\u001b[0m \u001b[0;34m=\u001b[0m \u001b[0mnp\u001b[0m\u001b[0;34m.\u001b[0m\u001b[0marray\u001b[0m\u001b[0;34m(\u001b[0m\u001b[0;34m[\u001b[0m\u001b[0mmse_theta\u001b[0m\u001b[0;34m(\u001b[0m\u001b[0mt\u001b[0m\u001b[0;34m,\u001b[0m \u001b[0mx_medinc\u001b[0m\u001b[0;34m,\u001b[0m \u001b[0my\u001b[0m\u001b[0;34m)\u001b[0m \u001b[0;32mfor\u001b[0m \u001b[0mt\u001b[0m \u001b[0;32min\u001b[0m \u001b[0mtheta_values\u001b[0m\u001b[0;34m]\u001b[0m\u001b[0;34m)\u001b[0m\u001b[0;34m\u001b[0m\u001b[0;34m\u001b[0m\u001b[0m\n\u001b[1;32m      4\u001b[0m \u001b[0mdf_mse\u001b[0m \u001b[0;34m=\u001b[0m \u001b[0mpd\u001b[0m\u001b[0;34m.\u001b[0m\u001b[0mDataFrame\u001b[0m\u001b[0;34m(\u001b[0m\u001b[0;34m{\u001b[0m\u001b[0;34m'delta'\u001b[0m\u001b[0;34m:\u001b[0m \u001b[0mdeltas\u001b[0m\u001b[0;34m,\u001b[0m \u001b[0;34m'theta'\u001b[0m\u001b[0;34m:\u001b[0m \u001b[0mtheta_values\u001b[0m\u001b[0;34m,\u001b[0m \u001b[0;34m'MSE'\u001b[0m\u001b[0;34m:\u001b[0m \u001b[0mmse_values\u001b[0m\u001b[0;34m}\u001b[0m\u001b[0;34m)\u001b[0m\u001b[0;34m\u001b[0m\u001b[0;34m\u001b[0m\u001b[0m\n\u001b[1;32m      5\u001b[0m \u001b[0mdf_mse\u001b[0m\u001b[0;34m\u001b[0m\u001b[0;34m\u001b[0m\u001b[0m\n",
            "\u001b[0;31mNameError\u001b[0m: name 'theta_opt' is not defined"
          ]
        }
      ],
      "source": [
        "deltas = np.array([-2.0, -1.0, -0.5, -0.1, 0.0, 0.1, 0.5, 1.0, 2.0])\n",
        "theta_values = theta_opt + deltas\n",
        "mse_values = np.array([mse_theta(t, x_medinc, y) for t in theta_values])\n",
        "df_mse = pd.DataFrame({'delta': deltas, 'theta': theta_values, 'MSE': mse_values})\n",
        "df_mse"
      ]
    },
    {
      "cell_type": "markdown",
      "id": "9e2deb62",
      "metadata": {
        "id": "9e2deb62"
      },
      "source": [
        "Мы видим, что при малых |Δθ| значение MSE меняется незначительно, что демонстрирует непрерывность."
      ]
    },
    {
      "cell_type": "markdown",
      "id": "2f9cf767",
      "metadata": {
        "id": "2f9cf767"
      },
      "source": [
        "## 5. Построение графика MSE(θ)\n",
        "Построим кривую MSE(θ) на интервале \\([\\theta^* - 2,\\theta^* + 2]\\), а также отметим вычисленные точки."
      ]
    },
    {
      "cell_type": "code",
      "execution_count": null,
      "id": "be420357",
      "metadata": {
        "id": "be420357",
        "outputId": "8047dfee-16bf-4fb3-e626-e98231dc6c84"
      },
      "outputs": [
        {
          "data": {
            "image/png": "[encoded data removed]",
            "text/plain": [
              "<Figure size 800x500 with 1 Axes>"
            ]
          },
          "metadata": {},
          "output_type": "display_data"
        }
      ],
      "source": [
        "theta_fine = np.linspace(theta_opt - 2, theta_opt + 2, 300)\n",
        "mse_fine = np.array([mse_theta(t, x_medinc, y) for t in theta_fine])\n",
        "plt.figure(figsize=(8, 5))\n",
        "plt.plot(theta_fine, mse_fine, label='MSE(θ)', color='orange')\n",
        "plt.scatter(theta_values, mse_values, color='black', label='Точки вычислений')\n",
        "plt.axvline(theta_opt, linestyle='--', color='blue', label='θ* (оптимум)')\n",
        "plt.title('График MSE(θ) на интервале [θ*-2, θ*+2]')\n",
        "plt.xlabel('θ')\n",
        "plt.ylabel('MSE(θ)')\n",
        "plt.legend()\n",
        "plt.grid(True)\n",
        "plt.show()"
      ]
    },
    {
      "cell_type": "markdown",
      "id": "30e0bbe4",
      "metadata": {
        "id": "30e0bbe4"
      },
      "source": [
        "На графике видно, что MSE(θ) — это гладкая «парабола» без разрывов. Это иллюстрирует непрерывность функции потерь."
      ]
    },
    {
      "cell_type": "markdown",
      "id": "3b237120",
      "metadata": {
        "id": "3b237120"
      },
      "source": [
        "## 6. Градиент MSE в точке θ*\n",
        "Аналитический градиент:<hr>\n",
        "![<image.png>](attachment:image.png)<br>\n",
        "Посчитаем аналитический и численный градиенты в θ* и сравним."
      ]
    },
    {
      "cell_type": "code",
      "execution_count": null,
      "id": "0dc70e2e",
      "metadata": {
        "id": "0dc70e2e",
        "outputId": "d7381ce0-85d9-4eb2-9181-59358a70e901"
      },
      "outputs": [
        {
          "data": {
            "text/html": [
              "<div>\n",
              "<style scoped>\n",
              "    .dataframe tbody tr th:only-of-type {\n",
              "        vertical-align: middle;\n",
              "    }\n",
              "\n",
              "    .dataframe tbody tr th {\n",
              "        vertical-align: top;\n",
              "    }\n",
              "\n",
              "    .dataframe thead th {\n",
              "        text-align: right;\n",
              "    }\n",
              "</style>\n",
              "<table border=\"1\" class=\"dataframe\">\n",
              "  <thead>\n",
              "    <tr style=\"text-align: right;\">\n",
              "      <th></th>\n",
              "      <th>Метод</th>\n",
              "      <th>Gradient</th>\n",
              "    </tr>\n",
              "  </thead>\n",
              "  <tbody>\n",
              "    <tr>\n",
              "      <th>0</th>\n",
              "      <td>Аналитический</td>\n",
              "      <td>6.191086e-15</td>\n",
              "    </tr>\n",
              "    <tr>\n",
              "      <th>1</th>\n",
              "      <td>Численный</td>\n",
              "      <td>-5.551115e-13</td>\n",
              "    </tr>\n",
              "  </tbody>\n",
              "</table>\n",
              "</div>"
            ],
            "text/plain": [
              "           Метод      Gradient\n",
              "0  Аналитический  6.191086e-15\n",
              "1      Численный -5.551115e-13"
            ]
          },
          "execution_count": 9,
          "metadata": {},
          "output_type": "execute_result"
        }
      ],
      "source": [
        "def gradient_mse(theta, x, y):\n",
        "    n = len(y)\n",
        "    return (2 / n) * np.sum(x.flatten() * (theta * x.flatten() - y))\n",
        "\n",
        "grad_analytic = gradient_mse(theta_opt, x_medinc, y)\n",
        "h = 1e-4\n",
        "grad_numeric = (mse_theta(theta_opt + h, x_medinc, y) - mse_theta(theta_opt - h, x_medinc, y)) / (2*h)\n",
        "pd.DataFrame({'Метод': ['Аналитический', 'Численный'], 'Gradient': [grad_analytic, grad_numeric]})"
      ]
    },
    {
      "cell_type": "markdown",
      "id": "3fbd6947",
      "metadata": {
        "id": "3fbd6947"
      },
      "source": [
        "В результате аналитический и численный градиенты совпадают (≈ 0), что подтверждает дифференцируемость и непрерывность MSE."
      ]
    },
    {
      "cell_type": "markdown",
      "id": "807e6d0b",
      "metadata": {
        "id": "807e6d0b"
      },
      "source": [
        "----\n",
        "### Вывод\n",
        "Мы продемонстрировали, что:\n",
        "- MSE(θ) в задаче линейной регрессии — квадратичный полином, следовательно, непрерывна.\n",
        "- При малых изменениях θ значение MSE меняется плавно (таблица и график).\n",
        "- Градиент MSE в точке θ* можно вычислить аналитически и подтвердить численным методом, что подтверждает гладкость функции.\n"
      ]
    }
  ],
  "metadata": {
    "kernelspec": {
      "display_name": ".venv",
      "language": "python",
      "name": "python3"
    },
    "language_info": {
      "codemirror_mode": {
        "name": "ipython",
        "version": 3
      },
      "file_extension": ".py",
      "mimetype": "text/x-python",
      "name": "python",
      "nbconvert_exporter": "python",
      "pygments_lexer": "ipython3",
      "version": "3.12.3"
    },
    "colab": {
      "provenance": []
    }
  },
  "nbformat": 4,
  "nbformat_minor": 5
}