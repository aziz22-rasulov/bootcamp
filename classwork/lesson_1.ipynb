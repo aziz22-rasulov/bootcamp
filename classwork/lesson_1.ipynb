{
 "cells": [
  {
   "cell_type": "code",
   "execution_count": 5,
   "id": "faf6266a",
   "metadata": {},
   "outputs": [],
   "source": [
    "class User:\n",
    "    name = None\n",
    "    age = 0"
   ]
  },
  {
   "cell_type": "code",
   "execution_count": 6,
   "id": "dc742728",
   "metadata": {},
   "outputs": [],
   "source": [
    "my_user = User()"
   ]
  },
  {
   "cell_type": "code",
   "execution_count": 20,
   "id": "72bba79b",
   "metadata": {},
   "outputs": [
    {
     "data": {
      "text/plain": [
       "<__main__.User at 0x1516f6e1fd0>"
      ]
     },
     "execution_count": 20,
     "metadata": {},
     "output_type": "execute_result"
    }
   ],
   "source": [
    "my_user"
   ]
  },
  {
   "cell_type": "code",
   "execution_count": 14,
   "id": "e3974041",
   "metadata": {},
   "outputs": [
    {
     "name": "stdout",
     "output_type": "stream",
     "text": [
      "{'surname': 'Some_text'}\n"
     ]
    }
   ],
   "source": [
    "print(my_user.__dict__)"
   ]
  },
  {
   "cell_type": "code",
   "execution_count": 11,
   "id": "075a8308",
   "metadata": {},
   "outputs": [],
   "source": [
    "my_user.surname = 'Some_text'"
   ]
  },
  {
   "cell_type": "code",
   "execution_count": 16,
   "id": "24a67a57",
   "metadata": {},
   "outputs": [
    {
     "data": {
      "text/plain": [
       "0"
      ]
     },
     "execution_count": 16,
     "metadata": {},
     "output_type": "execute_result"
    }
   ],
   "source": [
    "my_user.age"
   ]
  },
  {
   "cell_type": "code",
   "execution_count": 95,
   "id": "015f2a3d",
   "metadata": {},
   "outputs": [],
   "source": [
    "from typing import Literal\n",
    "from random import choice\n",
    "\n",
    "class Gun:\n",
    "    def __init__(self, model: str, ammo: int):\n",
    "        self.__max_ammo = ammo\n",
    "        self.ammo = ammo\n",
    "        self.model = model\n",
    "        self.voice = 100\n",
    "        self.silencer = False\n",
    "\n",
    "    def shoot(self):\n",
    "        if self.ammo > 0:\n",
    "            self.ammo -= 1\n",
    "            print(choice(['Пах', 'Пиф', 'Паф']))\n",
    "        else:\n",
    "            print('щелчок')\n",
    "\n",
    "    def reload(self):\n",
    "        if self.ammo == self.__max_ammo:\n",
    "            print('Максимум')\n",
    "        else:\n",
    "            self.ammo = self.__max_ammo\n",
    "\n",
    "    def add_silencer(self, status: Literal['on', 'off']):\n",
    "        if status == 'on':\n",
    "            self.silencer = True\n",
    "        elif status == 'off':\n",
    "            self.silencer = False"
   ]
  },
  {
   "cell_type": "code",
   "execution_count": 51,
   "id": "5cbe50ca",
   "metadata": {},
   "outputs": [],
   "source": [
    "gloc = Gun('gloc', 7)"
   ]
  },
  {
   "cell_type": "code",
   "execution_count": 55,
   "id": "5a4b3168",
   "metadata": {},
   "outputs": [
    {
     "name": "stdout",
     "output_type": "stream",
     "text": [
      "Пиф\n",
      "Пиф\n",
      "Паф\n",
      "Пах\n",
      "Паф\n",
      "Паф\n",
      "Пиф\n"
     ]
    }
   ],
   "source": [
    "for _ in range(7):\n",
    "    gloc.shoot()"
   ]
  },
  {
   "cell_type": "code",
   "execution_count": 54,
   "id": "ca62e49c",
   "metadata": {},
   "outputs": [],
   "source": [
    "gloc.reload()"
   ]
  },
  {
   "cell_type": "code",
   "execution_count": 56,
   "id": "4116afd1",
   "metadata": {},
   "outputs": [
    {
     "data": {
      "text/plain": [
       "0"
      ]
     },
     "execution_count": 56,
     "metadata": {},
     "output_type": "execute_result"
    }
   ],
   "source": [
    "gloc.ammo"
   ]
  },
  {
   "cell_type": "code",
   "execution_count": 58,
   "id": "2877f9d8",
   "metadata": {},
   "outputs": [
    {
     "data": {
      "text/plain": [
       "7"
      ]
     },
     "execution_count": 58,
     "metadata": {},
     "output_type": "execute_result"
    }
   ],
   "source": [
    "gloc._Gun__max_ammo"
   ]
  },
  {
   "cell_type": "code",
   "execution_count": 40,
   "id": "6eb4bf84",
   "metadata": {},
   "outputs": [],
   "source": [
    "one = 1\n",
    "two = one\n",
    "three = two\n",
    "\n",
    "del one\n",
    "del two"
   ]
  },
  {
   "cell_type": "code",
   "execution_count": 41,
   "id": "48f27eda",
   "metadata": {},
   "outputs": [
    {
     "name": "stdout",
     "output_type": "stream",
     "text": [
      "1\n"
     ]
    }
   ],
   "source": [
    "print(three)"
   ]
  },
  {
   "cell_type": "code",
   "execution_count": null,
   "id": "42b9ddb7",
   "metadata": {},
   "outputs": [],
   "source": [
    "from typing import Optional, Any, Union"
   ]
  },
  {
   "cell_type": "code",
   "execution_count": 75,
   "id": "4224f782",
   "metadata": {},
   "outputs": [],
   "source": [
    "def from_int_to_str(lst_num: list[int]) -> list[str]:\n",
    "    lst = [str(i) for i in lst_num]\n",
    "    return lst"
   ]
  },
  {
   "cell_type": "code",
   "execution_count": 83,
   "id": "b0697cd9",
   "metadata": {},
   "outputs": [],
   "source": [
    "class Vector:\n",
    "    def __init__(self, x: int, y: int):\n",
    "        self.x = x\n",
    "        self.y = y"
   ]
  },
  {
   "cell_type": "code",
   "execution_count": 81,
   "id": "3b3ce3b9",
   "metadata": {},
   "outputs": [],
   "source": [
    "vec = Vector(5, 5)"
   ]
  },
  {
   "cell_type": "code",
   "execution_count": 82,
   "id": "28b48f96",
   "metadata": {},
   "outputs": [
    {
     "name": "stdout",
     "output_type": "stream",
     "text": [
      "Vector(5, 5)\n"
     ]
    }
   ],
   "source": [
    "print(vec)"
   ]
  },
  {
   "cell_type": "code",
   "execution_count": 89,
   "id": "fceff93b",
   "metadata": {},
   "outputs": [],
   "source": [
    "setattr(vec, 'z', 5)\n"
   ]
  },
  {
   "cell_type": "code",
   "execution_count": 90,
   "id": "9fce2f6a",
   "metadata": {},
   "outputs": [
    {
     "data": {
      "text/plain": [
       "5"
      ]
     },
     "execution_count": 90,
     "metadata": {},
     "output_type": "execute_result"
    }
   ],
   "source": [
    "getattr(vec, 'z')"
   ]
  },
  {
   "cell_type": "code",
   "execution_count": 91,
   "id": "e0be0d96",
   "metadata": {},
   "outputs": [],
   "source": [
    "delattr(vec, 'z')"
   ]
  },
  {
   "cell_type": "code",
   "execution_count": null,
   "id": "4247bf1d",
   "metadata": {},
   "outputs": [],
   "source": []
  },
  {
   "cell_type": "code",
   "execution_count": null,
   "id": "bee802cd",
   "metadata": {},
   "outputs": [],
   "source": []
  }
 ],
 "metadata": {
  "kernelspec": {
   "display_name": "Python 3",
   "language": "python",
   "name": "python3"
  },
  "language_info": {
   "codemirror_mode": {
    "name": "ipython",
    "version": 3
   },
   "file_extension": ".py",
   "mimetype": "text/x-python",
   "name": "python",
   "nbconvert_exporter": "python",
   "pygments_lexer": "ipython3",
   "version": "3.13.3"
  }
 },
 "nbformat": 4,
 "nbformat_minor": 5
}
