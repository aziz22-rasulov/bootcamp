{
 "cells": [
  {
   "cell_type": "code",
   "execution_count": 30,
   "id": "c3b49a1f",
   "metadata": {},
   "outputs": [],
   "source": [
    "def decorator(func):\n",
    "    def inner_func(*args, **kwargs):\n",
    "        print('Действие до вызова функции')\n",
    "        func(*args, **kwargs)\n",
    "        print('Действие после вызова функции')\n",
    "\n",
    "    return inner_func"
   ]
  },
  {
   "cell_type": "code",
   "execution_count": 31,
   "id": "cd4022ff",
   "metadata": {},
   "outputs": [],
   "source": [
    "@decorator\n",
    "def hello(name):\n",
    "    print('hello', name)"
   ]
  },
  {
   "cell_type": "code",
   "execution_count": 32,
   "id": "ede4f654",
   "metadata": {},
   "outputs": [
    {
     "name": "stdout",
     "output_type": "stream",
     "text": [
      "Действие до вызова функции\n",
      "hello Азиз\n",
      "Действие после вызова функции\n"
     ]
    }
   ],
   "source": [
    "hello('Азиз')"
   ]
  },
  {
   "cell_type": "code",
   "execution_count": 37,
   "id": "450277d9",
   "metadata": {},
   "outputs": [],
   "source": [
    "def my_func(num, *args, **kwargs):\n",
    "    print(num)\n",
    "    print(*args)\n",
    "    print(kwargs)"
   ]
  },
  {
   "cell_type": "code",
   "execution_count": 38,
   "id": "a91364a4",
   "metadata": {},
   "outputs": [
    {
     "name": "stdout",
     "output_type": "stream",
     "text": [
      "1\n",
      "2 3 4\n",
      "{'a': 5, 'b': 6}\n"
     ]
    }
   ],
   "source": [
    "my_func(1, 2, 3, 4, a=5, b=6)"
   ]
  },
  {
   "cell_type": "code",
   "execution_count": 118,
   "id": "d01e4d89",
   "metadata": {},
   "outputs": [],
   "source": [
    "class Pet:\n",
    "    def __init__(self, breed, name, age, pet_type=None):\n",
    "        self._pet_type=pet_type\n",
    "        self.breed=breed\n",
    "        self.name=name\n",
    "        self.age=age\n",
    "\n",
    "    # Неформальное строковое представление объекта\n",
    "    def __str__(self):\n",
    "        return f'Питомец с именем {self._name}'\n",
    "\n",
    "    # Формальное строковое представление объекта\n",
    "    def __repr__(self):\n",
    "        return f\"Pet('{self._breed}', '{self._name}', {self._age})\"\n",
    "    \n",
    "    @classmethod\n",
    "    def dog(cls, *args, **kwargs):\n",
    "        return cls(*args, pet_type='Dog', **kwargs)\n",
    "\n",
    "    @staticmethod\n",
    "    def in_human_age(age):\n",
    "        if age == 1:\n",
    "            return 15\n",
    "        elif age == 2:\n",
    "            return 24\n",
    "        elif age > 2:\n",
    "            return 24 + (age - 2) * 5\n",
    "\n",
    "    @property\n",
    "    def name(self):\n",
    "        return self._name\n",
    "\n",
    "    @name.setter\n",
    "    def name(self, name):\n",
    "        if isinstance(name, str) and name.isalpha():\n",
    "            self._name = name\n",
    "        else:\n",
    "            raise ValueError('Имя некорректно')\n",
    "\n",
    "    @property\n",
    "    def age(self, human_age=False):\n",
    "        if human_age:\n",
    "            return in_human_age(self._age)\n",
    "        return self._age\n",
    "\n",
    "    @age.setter\n",
    "    def age(self, age):\n",
    "        if isinstance(age, int) and age >= 0:\n",
    "            self._age = age\n",
    "        else:\n",
    "            raise ValueError(\"Возраст некорректный\")\n",
    "\n",
    "    @property\n",
    "    def breed(self):\n",
    "        return self._breed\n",
    "\n",
    "    @breed.setter\n",
    "    def breed(self, breed):\n",
    "        if isinstance(breed, str) and breed.isalpha():\n",
    "            self._breed = breed\n",
    "        else:\n",
    "            raise ValueError(\"Порода некорректна\")"
   ]
  },
  {
   "cell_type": "code",
   "execution_count": 119,
   "id": "231dd548",
   "metadata": {},
   "outputs": [],
   "source": [
    "pet = Pet('Хаски', 'Дин', 1)"
   ]
  },
  {
   "cell_type": "code",
   "execution_count": 110,
   "id": "0ea9c321",
   "metadata": {},
   "outputs": [],
   "source": [
    "import datetime"
   ]
  },
  {
   "cell_type": "code",
   "execution_count": 120,
   "id": "19660763",
   "metadata": {},
   "outputs": [],
   "source": [
    "my_pet = Pet.dog('breed', 'name', 5)"
   ]
  },
  {
   "cell_type": "code",
   "execution_count": null,
   "id": "592ca804",
   "metadata": {},
   "outputs": [
    {
     "ename": "TypeError",
     "evalue": "'int' object is not callable",
     "output_type": "error",
     "traceback": [
      "\u001b[31m---------------------------------------------------------------------------\u001b[39m",
      "\u001b[31mTypeError\u001b[39m                                 Traceback (most recent call last)",
      "\u001b[36mCell\u001b[39m\u001b[36m \u001b[39m\u001b[32mIn[121]\u001b[39m\u001b[32m, line 1\u001b[39m\n\u001b[32m----> \u001b[39m\u001b[32m1\u001b[39m \u001b[43mmy_pet\u001b[49m\u001b[43m.\u001b[49m\u001b[43mage\u001b[49m\u001b[43m(\u001b[49m\u001b[43m)\u001b[49m\n",
      "\u001b[31mTypeError\u001b[39m: 'int' object is not callable"
     ]
    }
   ],
   "source": [
    "my_pet"
   ]
  },
  {
   "cell_type": "code",
   "execution_count": null,
   "id": "2a508b96",
   "metadata": {},
   "outputs": [],
   "source": []
  }
 ],
 "metadata": {
  "kernelspec": {
   "display_name": "Python 3",
   "language": "python",
   "name": "python3"
  },
  "language_info": {
   "codemirror_mode": {
    "name": "ipython",
    "version": 3
   },
   "file_extension": ".py",
   "mimetype": "text/x-python",
   "name": "python",
   "nbconvert_exporter": "python",
   "pygments_lexer": "ipython3",
   "version": "3.13.3"
  }
 },
 "nbformat": 4,
 "nbformat_minor": 5
}
