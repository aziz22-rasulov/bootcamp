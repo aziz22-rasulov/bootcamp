{
 "cells": [
  {
   "cell_type": "markdown",
   "id": "471da7f0",
   "metadata": {},
   "source": [
    "eq | ==\n",
    "ne | !=\n",
    "gt | >\n",
    "lt | <>\n",
    "ge | >=\n",
    "le | <=>"
   ]
  },
  {
   "cell_type": "code",
   "execution_count": 72,
   "id": "2ebae4e8",
   "metadata": {},
   "outputs": [],
   "source": [
    "class Point:\n",
    "    def __init__(self, x, y):\n",
    "        self.x = x\n",
    "        self.y = y\n",
    "\n",
    "    def __eq__(self, other):\n",
    "        if isinstance(other, Point):\n",
    "            return self.x == other.x and self.y == other.y\n",
    "        return NotImplemented"
   ]
  },
  {
   "cell_type": "code",
   "execution_count": 73,
   "id": "e6bd3b8a",
   "metadata": {},
   "outputs": [],
   "source": [
    "point1 = Point(1, 2)\n",
    "point2 = Point(1, 2)\n",
    "point3 = Point(2, 3)"
   ]
  },
  {
   "cell_type": "code",
   "execution_count": 74,
   "id": "9916ef3e",
   "metadata": {},
   "outputs": [
    {
     "name": "stdout",
     "output_type": "stream",
     "text": [
      "True\n",
      "True\n",
      "True\n"
     ]
    }
   ],
   "source": [
    "print(point1 == point2)\n",
    "print(point1 != point3)\n",
    "print(point3 != point2)"
   ]
  },
  {
   "cell_type": "code",
   "execution_count": 75,
   "id": "5bb76266",
   "metadata": {},
   "outputs": [],
   "source": [
    "from functools import total_ordering\n",
    "\n",
    "@total_ordering\n",
    "class Fruits:\n",
    "    def __init__(self, name, weight):\n",
    "        self.name = name\n",
    "        self.weight = weight\n",
    "\n",
    "    def __repr__(self):\n",
    "        return f\"Fruits('{self.name}', '{self.weight}')\"\n",
    "\n",
    "    def __eq__(self, value):\n",
    "        if isinstance(value, Fruits):\n",
    "            print('Сравнение')\n",
    "            return self.weight == value.weight\n",
    "        return NotImplemented\n",
    "    \n",
    "    def __gt__(self, value):\n",
    "        if isinstance(value, Fruits):\n",
    "            return self.weight > value.weight\n",
    "        return NotImplemented"
   ]
  },
  {
   "cell_type": "code",
   "execution_count": 76,
   "id": "6969c2ce",
   "metadata": {},
   "outputs": [],
   "source": [
    "fruits = [Fruits('Яблоко', 150), Fruits('Яблоко', 180), Fruits('Яблоко', 180)]\n",
    "\n",
    "apple = Fruits('Яблоко', 180)"
   ]
  },
  {
   "cell_type": "code",
   "execution_count": 77,
   "id": "33ac48df",
   "metadata": {},
   "outputs": [],
   "source": [
    "@total_ordering\n",
    "class Point:\n",
    "    def __init__(self, x, y):\n",
    "        self.x = x\n",
    "        self.y = y\n",
    "\n",
    "    def __eq__(self, other):\n",
    "        if isinstance(other, Point):\n",
    "            return self.x == other.x and self.y == other.y\n",
    "        return NotImplemented\n",
    "    \n",
    "    def __gt__(self, value):\n",
    "        if isinstance(value, Point):\n",
    "            return self.x > value.x and self.y > value.y\n",
    "        return NotImplemented\n",
    "    \n",
    "    def __hash__(self):\n",
    "        return hash((self.x, self.y))"
   ]
  },
  {
   "cell_type": "code",
   "execution_count": 78,
   "id": "b505969d",
   "metadata": {},
   "outputs": [],
   "source": [
    "point1 = Point(1, 2)\n",
    "point2 = Point(1, 2)\n",
    "point3 = Point(2, 3)"
   ]
  },
  {
   "cell_type": "code",
   "execution_count": 79,
   "id": "2a1070d3",
   "metadata": {},
   "outputs": [],
   "source": [
    "dct = {point1: '1'}"
   ]
  },
  {
   "cell_type": "code",
   "execution_count": 80,
   "id": "9e89ad88",
   "metadata": {},
   "outputs": [],
   "source": [
    "from time import perf_counter"
   ]
  },
  {
   "cell_type": "code",
   "execution_count": 81,
   "id": "4f915903",
   "metadata": {},
   "outputs": [],
   "source": [
    "import numpy as np"
   ]
  },
  {
   "cell_type": "code",
   "execution_count": 82,
   "id": "fe19c98c",
   "metadata": {},
   "outputs": [],
   "source": [
    "def func(num):\n",
    "    t1 = perf_counter()\n",
    "\n",
    "    for i in num:\n",
    "        i in num\n",
    "\n",
    "    t2 = perf_counter()\n",
    "\n",
    "    return t2 - t1\n",
    "\n",
    "numbers = range(500000)\n",
    "\n",
    "a = np.array(numbers)\n",
    "s = set(numbers)\n",
    "d = {i:i for i in numbers}"
   ]
  },
  {
   "cell_type": "code",
   "execution_count": 83,
   "id": "a682f5d3",
   "metadata": {},
   "outputs": [
    {
     "name": "stdout",
     "output_type": "stream",
     "text": [
      "0.014925900031812489\n",
      "0.014725300017744303\n"
     ]
    }
   ],
   "source": [
    "print(func(s))\n",
    "print(func(d))"
   ]
  },
  {
   "cell_type": "code",
   "execution_count": 84,
   "id": "daa180cf",
   "metadata": {},
   "outputs": [
    {
     "name": "stdout",
     "output_type": "stream",
     "text": [
      "-5845727507857827227\n"
     ]
    },
    {
     "data": {
      "text/plain": [
       "[[('one', 5), ('two', 1)], [], [], [], [], [], [('three', 3)], [], [], []]"
      ]
     },
     "execution_count": 84,
     "metadata": {},
     "output_type": "execute_result"
    }
   ],
   "source": [
    "dct = {'one': 1, 'two': 2, 'one': 5, 'three': 3}\n",
    "print(hash('three'))\n",
    "\n",
    "[[('one', 5), ('two', 1)], [], [], [], [], [], [('three', 3)], [], [], []]"
   ]
  },
  {
   "cell_type": "code",
   "execution_count": 85,
   "id": "50adc315",
   "metadata": {},
   "outputs": [
    {
     "data": {
      "text/plain": [
       "-2"
      ]
     },
     "execution_count": 85,
     "metadata": {},
     "output_type": "execute_result"
    }
   ],
   "source": [
    "hash(-1)"
   ]
  },
  {
   "cell_type": "code",
   "execution_count": 86,
   "id": "9514ac4d",
   "metadata": {},
   "outputs": [],
   "source": [
    "import datetime"
   ]
  },
  {
   "cell_type": "code",
   "execution_count": 87,
   "id": "d33cc86a",
   "metadata": {},
   "outputs": [
    {
     "data": {
      "text/plain": [
       "datetime.date(2021, 12, 12)"
      ]
     },
     "execution_count": 87,
     "metadata": {},
     "output_type": "execute_result"
    }
   ],
   "source": [
    "datetime.date(2021, 12, 12)"
   ]
  },
  {
   "cell_type": "code",
   "execution_count": 88,
   "id": "9cabb5ad",
   "metadata": {},
   "outputs": [
    {
     "data": {
      "text/plain": [
       "datetime.date(2021, 12, 12)"
      ]
     },
     "execution_count": 88,
     "metadata": {},
     "output_type": "execute_result"
    }
   ],
   "source": [
    "datetime.date.fromisoformat('2021-12-12')"
   ]
  },
  {
   "cell_type": "code",
   "execution_count": null,
   "id": "203ee2b0",
   "metadata": {},
   "outputs": [],
   "source": [
    "from functools import singledispatchmethod\n",
    "\n",
    "class Point:\n",
    "    @singledispatchmethod\n",
    "    def __init__(self, x, y):\n",
    "        self.x = x\n",
    "        self.y = y\n",
    "\n",
    "    @__init__.register\n",
    "    def tuple_model(self, value: tuple | list):\n",
    "        self.x, self.y = value\n",
    "\n",
    "    def __repr__(self):\n",
    "        return f\"Point({self.x}, {self.y})\""
   ]
  },
  {
   "cell_type": "code",
   "execution_count": 103,
   "id": "2227742f",
   "metadata": {},
   "outputs": [
    {
     "data": {
      "text/plain": [
       "Point(1, 2)"
      ]
     },
     "execution_count": 103,
     "metadata": {},
     "output_type": "execute_result"
    }
   ],
   "source": [
    "Point((1, 2))"
   ]
  },
  {
   "cell_type": "markdown",
   "id": "cfd49163",
   "metadata": {},
   "source": [
    "Создайте класс, который будет описывать игрового персонажа\n",
    "У него должны быть следующие атрибуты: `cила`| stg, `ловкость`| agl, `мудрость`| arc\n",
    "\n",
    "Класс должен поддерживать следующие методы: eq, ne, gt, lt, ge, le\n",
    "Во время сравнения, методы сравнения скажет, какая характеристика больше у того или иного персонажа"
   ]
  },
  {
   "cell_type": "markdown",
   "id": "648c591e",
   "metadata": {},
   "source": [
    "**Входные данные**\n",
    "\n",
    "char1 = Char(1, 1, 2)\n",
    "char2 = Char(2, 1, 1)\n",
    "\n",
    "char1 == char2"
   ]
  },
  {
   "cell_type": "markdown",
   "id": "7f3a9f34",
   "metadata": {},
   "source": [
    "**Вывод**\n",
    "\n",
    "1 == 2 False\n",
    "1 == 1 True\n",
    "2 == 1 False"
   ]
  },
  {
   "cell_type": "code",
   "execution_count": null,
   "id": "c2d192c0",
   "metadata": {},
   "outputs": [],
   "source": []
  },
  {
   "cell_type": "code",
   "execution_count": null,
   "id": "47e1e07d",
   "metadata": {},
   "outputs": [],
   "source": []
  },
  {
   "cell_type": "code",
   "execution_count": null,
   "id": "ebf0c7b6",
   "metadata": {},
   "outputs": [],
   "source": []
  },
  {
   "cell_type": "code",
   "execution_count": null,
   "id": "eba8671c",
   "metadata": {},
   "outputs": [],
   "source": []
  }
 ],
 "metadata": {
  "kernelspec": {
   "display_name": "Python 3",
   "language": "python",
   "name": "python3"
  },
  "language_info": {
   "codemirror_mode": {
    "name": "ipython",
    "version": 3
   },
   "file_extension": ".py",
   "mimetype": "text/x-python",
   "name": "python",
   "nbconvert_exporter": "python",
   "pygments_lexer": "ipython3",
   "version": "3.13.3"
  }
 },
 "nbformat": 4,
 "nbformat_minor": 5
}
